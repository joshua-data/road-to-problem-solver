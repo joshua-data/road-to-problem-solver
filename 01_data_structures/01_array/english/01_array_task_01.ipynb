{
 "cells": [
  {
   "cell_type": "markdown",
   "metadata": {},
   "source": [
    "# No Duplicate Numbers!\n",
    "* [Link](https://school.programmers.co.kr/learn/courses/30/lessons/12906?language=python3)"
   ]
  },
  {
   "cell_type": "markdown",
   "metadata": {},
   "source": [
    "# Task Explained"
   ]
  },
  {
   "cell_type": "markdown",
   "metadata": {},
   "source": [
    "### Problem Description\n",
    "\n",
    "You are given an array arr. Each element of the array consists of digits ranging from 0 to 9. Your task is to remove consecutive identical numbers from the array, leaving only one instance of each. After removing the duplicates, the remaining numbers should retain their original order in the array. For example:\n",
    "\n",
    "* If arr = [1, 1, 3, 3, 0, 1, 1], the function should return [1, 3, 0, 1].\n",
    "* If arr = [4, 4, 4, 3, 3], the function should return [4, 3].\n",
    "\n",
    "Complete the function solution that returns the modified array with consecutive duplicates removed.\n",
    "\n",
    "### Constraints\n",
    "* The size of the array arr is less than or equal to 1,000,000.\n",
    "* Each element of the array arr is an integer between 0 and 9, inclusive."
   ]
  },
  {
   "cell_type": "markdown",
   "metadata": {},
   "source": [
    "### Example Inputs & Outputs\n",
    "\n",
    "\n",
    "| arr | answer |\n",
    "| - | - |\n",
    "| `[1,1,3,3,0,1,1]` | `[1,3,0,1]` |\n",
    "| `[4,4,4,3,3]` | `[4,3]` |\n",
    "\n",
    "### Explanation for the Example Inputs & Outputs\n",
    "* Example #1 and #2\n",
    "* Both examples correspond to the problem's sample cases."
   ]
  },
  {
   "cell_type": "markdown",
   "metadata": {},
   "source": [
    "# My Approach"
   ]
  },
  {
   "cell_type": "markdown",
   "metadata": {},
   "source": [
    "1. I interpreted **consecutive identical** to mean when **the current element has the same value as the previous element**.\n",
    "\n",
    "2. Therefore, I decided to determine **whether to keep or delete** an element based on the following condition:\n",
    "\n",
    "    ```plain\n",
    "    if CurrentElement == PreviousElement:\n",
    "        CurrentElement.Delete\n",
    "    else:\n",
    "        CurrentElement.Keep\n",
    "    ```\n",
    "\n",
    "3. However, if the current element is **the 0th element in the list**, there is **no previous element to compare with**, so I added the following condition:\n",
    "\n",
    "    ```plain\n",
    "    if CurrentElement == List[0]:\n",
    "        CurrentElement.Keep\n",
    "    elif CurrentElement == PreviousElement:\n",
    "        CurrentElement.Delete\n",
    "    else:\n",
    "        CurrentElement.Keep    \n",
    "    ```"
   ]
  },
  {
   "cell_type": "code",
   "execution_count": 19,
   "metadata": {},
   "outputs": [
    {
     "data": {
      "text/plain": [
       "[4, 3]"
      ]
     },
     "execution_count": 19,
     "metadata": {},
     "output_type": "execute_result"
    }
   ],
   "source": [
    "arr = [4, 4, 4, 3, 3]\n",
    "\n",
    "def RemoveConsecutiveDuplicates(arr):\n",
    "    answers = []\n",
    "    for i, item in enumerate(arr):\n",
    "        if i == 0:\n",
    "            answers.append(item)\n",
    "        else:\n",
    "            if item_prev != item:\n",
    "                answers.append(item)\n",
    "        item_prev = item\n",
    "    return answers\n",
    "\n",
    "RemoveConsecutiveDuplicates(arr)"
   ]
  }
 ],
 "metadata": {
  "kernelspec": {
   "display_name": "Python 3",
   "language": "python",
   "name": "python3"
  },
  "language_info": {
   "codemirror_mode": {
    "name": "ipython",
    "version": 3
   },
   "file_extension": ".py",
   "mimetype": "text/x-python",
   "name": "python",
   "nbconvert_exporter": "python",
   "pygments_lexer": "ipython3",
   "version": "3.8.10"
  }
 },
 "nbformat": 4,
 "nbformat_minor": 2
}
