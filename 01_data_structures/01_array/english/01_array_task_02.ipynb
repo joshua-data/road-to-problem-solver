{
 "cells": [
  {
   "cell_type": "markdown",
   "metadata": {},
   "source": [
    "# Move Zeroes\n",
    "* [Link](https://leetcode.com/problems/move-zeroes/)"
   ]
  },
  {
   "cell_type": "markdown",
   "metadata": {},
   "source": [
    "# Task Explained"
   ]
  },
  {
   "cell_type": "markdown",
   "metadata": {},
   "source": [
    "### Task\n",
    "\n",
    "* Given an integer array nums, move all 0's to the end of it while maintaining the relative order of the non-zero elements.\n",
    "* Note that you must do this in-place without making a copy of the array.\n",
    "\n",
    "### Example 1:\n",
    "\n",
    "> * Input: nums = [0,1,0,3,12]\n",
    "> * Output: [1,3,12,0,0]\n",
    "\n",
    "### Example 2:\n",
    "\n",
    "> * Input: nums = [0]\n",
    "> * Output: [0]\n",
    " \n",
    "### Constraints:\n",
    "\n",
    "> * 1 <= nums.length <= 104\n",
    "> * -231 <= nums[i] <= 231 - 1\n",
    " \n",
    "### Follow up\n",
    "* Could you minimize the total number of operations done?"
   ]
  },
  {
   "cell_type": "markdown",
   "metadata": {},
   "source": [
    "# My Approach"
   ]
  },
  {
   "cell_type": "markdown",
   "metadata": {},
   "source": [
    "1. I came up with the following approach:\n",
    "    * Count the number of zeros while removing them.\n",
    "    * Keep the non-zero elements as they are.\n",
    "\n",
    "2. Therefore, I thought of the following method:\n",
    "\n",
    "    ```plain\n",
    "    for Element in List:\n",
    "        if Element == 0:\n",
    "            Zero_cnt += 1\n",
    "            Element.Delete\n",
    "        else:\n",
    "            Element.Keep\n",
    "    Element.extend([0] * Zero_cnt)\n",
    "    ```\n",
    "\n",
    "3. I also considered using a separate temporary list, but to optimize memory usage, I came up with this efficient method."
   ]
  },
  {
   "cell_type": "code",
   "execution_count": 20,
   "metadata": {},
   "outputs": [
    {
     "data": {
      "text/plain": [
       "[1, 3, 12, 0, 0]"
      ]
     },
     "execution_count": 20,
     "metadata": {},
     "output_type": "execute_result"
    }
   ],
   "source": [
    "nums = [0, 1, 0, 3, 12]\n",
    "\n",
    "def MoveZeroes(nums):\n",
    "    zero_cnt = 0\n",
    "    for i in reversed(range(len(nums))):\n",
    "        if nums[i] == 0:\n",
    "            zero_cnt += 1\n",
    "            nums.pop(i)\n",
    "    nums.extend([0] * zero_cnt)\n",
    "    return nums\n",
    "\n",
    "MoveZeroes(nums)"
   ]
  }
 ],
 "metadata": {
  "kernelspec": {
   "display_name": "Python 3",
   "language": "python",
   "name": "python3"
  },
  "language_info": {
   "codemirror_mode": {
    "name": "ipython",
    "version": 3
   },
   "file_extension": ".py",
   "mimetype": "text/x-python",
   "name": "python",
   "nbconvert_exporter": "python",
   "pygments_lexer": "ipython3",
   "version": "3.8.10"
  }
 },
 "nbformat": 4,
 "nbformat_minor": 2
}
