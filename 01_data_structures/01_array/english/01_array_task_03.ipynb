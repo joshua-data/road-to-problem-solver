{
 "cells": [
  {
   "cell_type": "markdown",
   "metadata": {},
   "source": [
    "# Best Time to Buy and Sell Stock\n",
    "* [Link](https://leetcode.com/problems/best-time-to-buy-and-sell-stock/description/)"
   ]
  },
  {
   "cell_type": "markdown",
   "metadata": {},
   "source": [
    "# Task Explained"
   ]
  },
  {
   "cell_type": "markdown",
   "metadata": {},
   "source": [
    "### Task\n",
    "\n",
    "* You are given an array prices where prices[i] is the price of a given stock on the ith day.\n",
    "* You want to maximize your profit by choosing a single day to buy one stock and choosing a different day in the future to sell that stock.\n",
    "* Return the maximum profit you can achieve from this transaction. If you cannot achieve any profit, return 0.\n",
    "\n",
    "### Example 1:\n",
    "\n",
    "> * Input: prices = [7,1,5,3,6,4]\n",
    "> * Output: 5\n",
    "> * **Explanation**: Buy on day 2 (price = 1) and sell on day 5 (price = 6), profit = 6-1 = 5.\n",
    "> * Note that buying on day 2 and selling on day 1 is not allowed because you must buy before you sell.\n",
    "\n",
    "### Example 2:\n",
    "\n",
    "> * Input: prices = [7,6,4,3,1]\n",
    "> * Output: 0\n",
    "> * **Explanation**: In this case, no transactions are done and the max profit = 0.\n",
    " \n",
    "\n",
    "### Constraints:\n",
    "\n",
    "> * 1 <= prices.length <= 10**5\n",
    "> * 0 <= prices[i] <= 10**4"
   ]
  },
  {
   "cell_type": "markdown",
   "metadata": {},
   "source": [
    "# My Approach"
   ]
  },
  {
   "cell_type": "markdown",
   "metadata": {},
   "source": [
    "0. This task was really difficult, and after hours of thinking with no solution in sight, I eventually took a peek at the answer and focused on the concept of profit to write the solution myself.\n",
    "\n",
    "1. First, I iterated through each point in time and performed the following three calculations:\n",
    "    * `min_price`: The lowest price from the start to the current point.\n",
    "    * `profit`: The profit if I sell at the current point.\n",
    "    * `max_profit`: The maximum profit achievable from the start to the current point.\n",
    "\n",
    "2. For example, the process looks like this:\n",
    "\n",
    "    | - | Time 0 | Time 1 | Time 2 | Time 3 | Time 4 | Time 5 |\n",
    "    | - | - | - | - | - | - | - |\n",
    "    | `price` | 7 | 1 | 5 | 3 | 6 | 4 |\n",
    "    | `min_pricce` | 7 | 1 | 1 | 1 | 1 | 1 |\n",
    "    | `profit` | 0 | 0 | 4 | 2 | 5 | 3 |\n",
    "    | `max_profit` | 0 | 0 | 4 | 4 | 5 | 5 |\n",
    "\n",
    "3. So, the solution should return the `max_profit` achievable so far.\n",
    "\n",
    "    ```plain\n",
    "        for price in 리스트:\n",
    "            if price < min_price:\n",
    "                min_price = price\n",
    "            \n",
    "            profit = price - min_price\n",
    "            if max_profit < profit:\n",
    "                max_profit = profit\n",
    "    ```\n",
    "\n",
    "4. However, if the current price is **the 0th element in the list**, there is **no previous price to compare with**, so I added the following condition:\n",
    "\n",
    "    ```plain\n",
    "        max_profit = 0\n",
    "\n",
    "        for price in list:\n",
    "\n",
    "            If it's the 0th price:\n",
    "                min_price = price\n",
    "                profit = price - min_price\n",
    "                if max_profit < profit:\n",
    "                    max_profit = profit\n",
    "\n",
    "            Starting from the next prices:\n",
    "                if price < min_price:\n",
    "                    min_price = price\n",
    "                \n",
    "                profit = price - min_price\n",
    "                if max_profit < profit:\n",
    "                    max_profit = profit\n",
    "    ```"
   ]
  },
  {
   "cell_type": "code",
   "execution_count": 1,
   "metadata": {},
   "outputs": [
    {
     "data": {
      "text/plain": [
       "5"
      ]
     },
     "execution_count": 1,
     "metadata": {},
     "output_type": "execute_result"
    }
   ],
   "source": [
    "prices = [7, 1, 5, 3, 6, 4]\n",
    "\n",
    "def solution(prices):\n",
    "    max_profit = 0\n",
    "\n",
    "    for i, price in enumerate(prices):\n",
    "        if i == 0:\n",
    "            min_price = price\n",
    "        else:\n",
    "            if price < min_price:\n",
    "                min_price = price\n",
    "\n",
    "        max_profit = max(max_profit, price - min_price)\n",
    "\n",
    "    return max_profit\n",
    "\n",
    "solution(prices)"
   ]
  }
 ],
 "metadata": {
  "kernelspec": {
   "display_name": "Python 3",
   "language": "python",
   "name": "python3"
  },
  "language_info": {
   "codemirror_mode": {
    "name": "ipython",
    "version": 3
   },
   "file_extension": ".py",
   "mimetype": "text/x-python",
   "name": "python",
   "nbconvert_exporter": "python",
   "pygments_lexer": "ipython3",
   "version": "3.8.10"
  }
 },
 "nbformat": 4,
 "nbformat_minor": 2
}
