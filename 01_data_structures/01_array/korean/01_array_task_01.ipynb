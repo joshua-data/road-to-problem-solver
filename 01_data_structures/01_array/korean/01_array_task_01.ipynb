{
 "cells": [
  {
   "cell_type": "markdown",
   "metadata": {},
   "source": [
    "# No Duplicate Numbers!\n",
    "* [Link](https://school.programmers.co.kr/learn/courses/30/lessons/12906?language=python3)"
   ]
  },
  {
   "cell_type": "markdown",
   "metadata": {},
   "source": [
    "# My Approach"
   ]
  },
  {
   "cell_type": "markdown",
   "metadata": {},
   "source": [
    "1. 저는 **연속형 동일**의 의미를 **직전 요소와 값이 동일한 경우**로 해석했어요.\n",
    "\n",
    "2.  따라서, 다음의 조건에 따라 **유지/삭제 여부**를 결정하려고 했어요.\n",
    "\n",
    "    ```plain\n",
    "    if 해당요소 == 직전요소:\n",
    "        해당요소.삭제하기\n",
    "    else:\n",
    "        해당요소.유지하기\n",
    "    ```\n",
    "\n",
    "3. 그런데, 해당요소가 **리스트의 0번째**라면 **비교할 직전 요소 자체**가 없으므로, 다음과 같이 조건을 추가하려고 했어요.\n",
    "\n",
    "    ```plain\n",
    "    if 해당요소 == 리스트[0]:\n",
    "        해당요소.유지하기\n",
    "    elif 해당요소 == 직전요소:\n",
    "        해당요소.삭제하기\n",
    "    else:\n",
    "        해당요소.유지하기    \n",
    "    ```"
   ]
  },
  {
   "cell_type": "code",
   "execution_count": 19,
   "metadata": {},
   "outputs": [
    {
     "data": {
      "text/plain": [
       "[4, 3]"
      ]
     },
     "execution_count": 19,
     "metadata": {},
     "output_type": "execute_result"
    }
   ],
   "source": [
    "arr = [4, 4, 4, 3, 3]\n",
    "\n",
    "def RemoveConsecutiveDuplicates(arr):\n",
    "    answers = []\n",
    "    for i, item in enumerate(arr):\n",
    "        if i == 0:\n",
    "            answers.append(item)\n",
    "        else:\n",
    "            if item_prev != item:\n",
    "                answers.append(item)\n",
    "        item_prev = item\n",
    "    return answers\n",
    "\n",
    "RemoveConsecutiveDuplicates(arr)"
   ]
  }
 ],
 "metadata": {
  "kernelspec": {
   "display_name": "Python 3",
   "language": "python",
   "name": "python3"
  },
  "language_info": {
   "codemirror_mode": {
    "name": "ipython",
    "version": 3
   },
   "file_extension": ".py",
   "mimetype": "text/x-python",
   "name": "python",
   "nbconvert_exporter": "python",
   "pygments_lexer": "ipython3",
   "version": "3.8.10"
  }
 },
 "nbformat": 4,
 "nbformat_minor": 2
}
