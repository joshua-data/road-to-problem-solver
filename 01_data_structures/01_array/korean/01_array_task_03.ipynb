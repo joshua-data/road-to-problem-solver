{
 "cells": [
  {
   "cell_type": "markdown",
   "metadata": {},
   "source": [
    "# Best Time to Buy and Sell Stock\n",
    "* [Link](https://leetcode.com/problems/best-time-to-buy-and-sell-stock/description/)"
   ]
  },
  {
   "cell_type": "markdown",
   "metadata": {},
   "source": [
    "# My Approach"
   ]
  },
  {
   "cell_type": "markdown",
   "metadata": {},
   "source": [
    "0. 이 Task는 엄청 어려워서 몇 시간 동안 고민해도 답이 안 보여서, 결국 해답을 살짝 보고 \"이익\"에 집중해서 직접 작성했어요.\n",
    "\n",
    "1. 먼저, 각 시점을 순회하며, 아래 3가지를 계산하는 과정을 거쳤어요.\n",
    "    * 최초 시점 ~ 현재 시점까지 최저 가격\n",
    "    * 현재 시점에서 매도할 경우 이익\n",
    "    * 최초 시점 ~ 현재 시점까지 달성 가능 최대 이익\n",
    "\n",
    "2. 즉, 사례는 다음과 같아요.\n",
    "\n",
    "    | - | 시점 0 | 시점 1 | 시점 2 | 시점 3 | 시점 4 | 시점 5 |\n",
    "    | - | - | - | - | - | - | - |\n",
    "    | 현재가격(`price`) | 7 | 1 | 5 | 3 | 6 | 4 |\n",
    "    | 최초 시점 ~ 현재 시점까지 최저 가격 (`min_pricce`) | 7 | 1 | 1 | 1 | 1 | 1 |\n",
    "    | 현재 시점에서 매도할 경우 이익 (`profit`) | 0 | 0 | 4 | 2 | 5 | 3 |\n",
    "    | 최초 시점 ~ 현재 시점까지 달성 가능 최대 이익 (`max_profit`) | 0 | 0 | 4 | 4 | 5 | 5 |\n",
    "\n",
    "\n",
    "3. 즉, `최초 시점 ~ 현재 시점까지 달성 가능 최대 이익`을 반환하면 되겠죠.\n",
    "\n",
    "    ```plain\n",
    "        for price in 리스트:\n",
    "            if price < min_price:\n",
    "                min_price = price\n",
    "            \n",
    "            profit = price - min_price\n",
    "            if max_profit < profit:\n",
    "                max_profit = profit\n",
    "    ```\n",
    "\n",
    "4. 그런데, 현재가격이 **리스트의 0번째**라면, **비교할 이전 가격 자체**가 없으므로, 다음과 같이 조건을 추가하려고 했어요.\n",
    "\n",
    "    ```plain\n",
    "        max_profit = 0\n",
    "\n",
    "        for price in 리스트:\n",
    "\n",
    "            0번째 현재가격은:\n",
    "                min_price = price\n",
    "                profit = price - min_price\n",
    "                if max_profit < profit:\n",
    "                    max_profit = profit\n",
    "\n",
    "            이후 현재가격부터:\n",
    "                if price < min_price:\n",
    "                    min_price = price\n",
    "                \n",
    "                profit = price - min_price\n",
    "                if max_profit < profit:\n",
    "                    max_profit = profit\n",
    "    ```"
   ]
  },
  {
   "cell_type": "code",
   "execution_count": 1,
   "metadata": {},
   "outputs": [
    {
     "data": {
      "text/plain": [
       "5"
      ]
     },
     "execution_count": 1,
     "metadata": {},
     "output_type": "execute_result"
    }
   ],
   "source": [
    "prices = [7, 1, 5, 3, 6, 4]\n",
    "\n",
    "def CalculateMaxProfit(prices):\n",
    "    max_profit = 0\n",
    "\n",
    "    for i, price in enumerate(prices):\n",
    "        if i == 0:\n",
    "            min_price = price\n",
    "            profit = price - min_price\n",
    "            if max_profit < profit:\n",
    "                max_profit = profit\n",
    "        else:\n",
    "            if price < min_price:\n",
    "                min_price = price\n",
    "            profit = price - min_price\n",
    "            if max_profit < profit:\n",
    "                max_profit = profit\n",
    "\n",
    "    return max_profit\n",
    "\n",
    "CalculateMaxProfit(prices)"
   ]
  }
 ],
 "metadata": {
  "kernelspec": {
   "display_name": "Python 3",
   "language": "python",
   "name": "python3"
  },
  "language_info": {
   "codemirror_mode": {
    "name": "ipython",
    "version": 3
   },
   "file_extension": ".py",
   "mimetype": "text/x-python",
   "name": "python",
   "nbconvert_exporter": "python",
   "pygments_lexer": "ipython3",
   "version": "3.8.10"
  }
 },
 "nbformat": 4,
 "nbformat_minor": 2
}
