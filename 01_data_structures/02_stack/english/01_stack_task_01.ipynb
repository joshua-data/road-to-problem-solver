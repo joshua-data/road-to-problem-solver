{
 "cells": [
  {
   "cell_type": "markdown",
   "metadata": {},
   "source": [
    "# Screen Valid Parentheses (1)\n",
    "* [Link](https://school.programmers.co.kr/learn/courses/30/lessons/12909)"
   ]
  },
  {
   "cell_type": "markdown",
   "metadata": {},
   "source": [
    "# My Approach"
   ]
  },
  {
   "cell_type": "code",
   "execution_count": 1,
   "metadata": {},
   "outputs": [
    {
     "data": {
      "text/plain": [
       "True"
      ]
     },
     "execution_count": 1,
     "metadata": {},
     "output_type": "execute_result"
    }
   ],
   "source": [
    "string = '(())()'\n",
    "\n",
    "# Two Conditions throughout the iteration\n",
    "    # (1) # of Open Brackets < # of Closing Brackets at any single time: Nope!\n",
    "    # (2) After the iteration, # of Open Brackets == # of Closing Brackets: Yes!\n",
    "\n",
    "def solution(s):\n",
    "\n",
    "    net_sum = 0\n",
    "\n",
    "    for s in string:\n",
    "        # Open Brackets: net_sum added by 1.\n",
    "        if s == '(':\n",
    "            net_sum += 1\n",
    "        # Closing Brackets: check the net_sum value, first.\n",
    "        else:\n",
    "            # net_sum > 0: net_sum subtracted by 1.\n",
    "            if net_sum > 0:\n",
    "                net_sum -= 1\n",
    "            # net_sum = 0: WRONG!\n",
    "            else:\n",
    "                return False\n",
    "\n",
    "    # [After the Iteration!]\n",
    "    if net_sum == 0:\n",
    "        return True\n",
    "    else:\n",
    "        return False\n",
    "\n",
    "solution(string)    "
   ]
  },
  {
   "cell_type": "code",
   "execution_count": null,
   "metadata": {},
   "outputs": [],
   "source": []
  }
 ],
 "metadata": {
  "kernelspec": {
   "display_name": "Python 3",
   "language": "python",
   "name": "python3"
  },
  "language_info": {
   "codemirror_mode": {
    "name": "ipython",
    "version": 3
   },
   "file_extension": ".py",
   "mimetype": "text/x-python",
   "name": "python",
   "nbconvert_exporter": "python",
   "pygments_lexer": "ipython3",
   "version": "3.8.10"
  }
 },
 "nbformat": 4,
 "nbformat_minor": 2
}
