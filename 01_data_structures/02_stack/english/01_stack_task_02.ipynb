{
 "cells": [
  {
   "cell_type": "markdown",
   "metadata": {},
   "source": [
    "# Screen Valid Parentheses (2)\n",
    "* [Link](https://leetcode.com/problems/valid-parentheses/description/)"
   ]
  },
  {
   "cell_type": "markdown",
   "metadata": {},
   "source": [
    "# My Approach"
   ]
  },
  {
   "cell_type": "code",
   "execution_count": 1,
   "metadata": {},
   "outputs": [
    {
     "data": {
      "text/plain": [
       "False"
      ]
     },
     "execution_count": 1,
     "metadata": {},
     "output_type": "execute_result"
    }
   ],
   "source": [
    "string = '()[]{}'\n",
    "\n",
    "def solution(string):\n",
    "\n",
    "    # A temp list to monitor the conditions\n",
    "    temps = []\n",
    "\n",
    "    for s in string:\n",
    "\n",
    "        # Open Bracket: Archive it!\n",
    "        if s in ['(', '[', '{']:\n",
    "            temps.append(s)\n",
    "        # Closing Bracket: Check the temps, first.\n",
    "        else:\n",
    "            # No archives yet: WRONG!\n",
    "            if temps is None:\n",
    "                return False\n",
    "            \n",
    "            # Same type as the last item: Pop the last item, then PASS!\n",
    "            if temps[-1] == '(' and s == ')':\n",
    "                temps.pop()\n",
    "            elif temps[-1] == '[' and s == ']':\n",
    "                temps.pop()\n",
    "            elif temps[-1] == '{' and s == '}':\n",
    "                temps.pop()\n",
    "            # Different type as the last item: WRONG!\n",
    "            else:\n",
    "                return False\n",
    "\n",
    "    # [After the iteration!]\n",
    "    # Archives are gone: PASS!\n",
    "    if temps is None:\n",
    "        return True\n",
    "    # Remaning Archives: WRONG!\n",
    "    else:\n",
    "        return False\n",
    "\n",
    "solution(string)    "
   ]
  },
  {
   "cell_type": "code",
   "execution_count": null,
   "metadata": {},
   "outputs": [],
   "source": []
  }
 ],
 "metadata": {
  "kernelspec": {
   "display_name": "Python 3",
   "language": "python",
   "name": "python3"
  },
  "language_info": {
   "codemirror_mode": {
    "name": "ipython",
    "version": 3
   },
   "file_extension": ".py",
   "mimetype": "text/x-python",
   "name": "python",
   "nbconvert_exporter": "python",
   "pygments_lexer": "ipython3",
   "version": "3.8.10"
  }
 },
 "nbformat": 4,
 "nbformat_minor": 2
}
