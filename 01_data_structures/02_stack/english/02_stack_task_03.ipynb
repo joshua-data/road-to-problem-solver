{
 "cells": [
  {
   "cell_type": "markdown",
   "metadata": {},
   "source": [
    "# Generate Valid Parentheses\n",
    "* [Link](https://leetcode.com/problems/generate-parentheses/description/)"
   ]
  },
  {
   "cell_type": "markdown",
   "metadata": {},
   "source": [
    "# My Approach"
   ]
  },
  {
   "cell_type": "code",
   "execution_count": 5,
   "metadata": {},
   "outputs": [
    {
     "data": {
      "text/plain": [
       "['((()))', '(()())', '(())()', '()(())', '()()()']"
      ]
     },
     "execution_count": 5,
     "metadata": {},
     "output_type": "execute_result"
    }
   ],
   "source": [
    "def solution(n):\n",
    "\n",
    "    # A temp list to store all the proper cases\n",
    "    results = []\n",
    "\n",
    "    # the Recursive function: depending on the # of Open Brackets and the # of Closing Brackets!\n",
    "    def recursive_create_result(result, open_cnt, closing_cnt):\n",
    "\n",
    "        # Border Checkpoint to check it's allowed to keep going!\n",
    "\n",
    "        # (1) Already have written n brackets: Store the case!\n",
    "        if open_cnt == n and closing_cnt == n:\n",
    "            return results.append(result)\n",
    "        # (2) Have written more than n brackets: Failed!\n",
    "        elif open_cnt > n or closing_cnt > n:\n",
    "            return\n",
    "        # (3) \"# of Open Brackets < # of Closing Brackets\": Failed!\n",
    "        elif open_cnt < closing_cnt:\n",
    "            return\n",
    "\n",
    "        # Let's do Recursive!\n",
    "        # (1) Add a open bracket.\n",
    "        recursive_create_result(result + '(', open_cnt + 1, closing_cnt)\n",
    "        # (2) Add a closing bracket.\n",
    "        recursive_create_result(result + ')', open_cnt, closing_cnt + 1)\n",
    "\n",
    "    # Start from the zero!\n",
    "    recursive_create_result('', 0, 0)\n",
    "    \n",
    "    return results\n",
    "\n",
    "solution(3)"
   ]
  },
  {
   "cell_type": "code",
   "execution_count": null,
   "metadata": {},
   "outputs": [],
   "source": []
  }
 ],
 "metadata": {
  "kernelspec": {
   "display_name": "Python 3",
   "language": "python",
   "name": "python3"
  },
  "language_info": {
   "codemirror_mode": {
    "name": "ipython",
    "version": 3
   },
   "file_extension": ".py",
   "mimetype": "text/x-python",
   "name": "python",
   "nbconvert_exporter": "python",
   "pygments_lexer": "ipython3",
   "version": "3.8.10"
  }
 },
 "nbformat": 4,
 "nbformat_minor": 2
}
