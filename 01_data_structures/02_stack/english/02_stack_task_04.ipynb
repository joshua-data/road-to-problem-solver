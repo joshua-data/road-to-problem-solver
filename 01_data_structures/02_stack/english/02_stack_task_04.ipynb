{
 "cells": [
  {
   "cell_type": "markdown",
   "metadata": {},
   "source": [
    "# Stock Prices\n",
    "* [Link](https://school.programmers.co.kr/learn/courses/30/lessons/42584)"
   ]
  },
  {
   "cell_type": "markdown",
   "metadata": {},
   "source": [
    "# My Approach"
   ]
  },
  {
   "cell_type": "code",
   "execution_count": 7,
   "metadata": {},
   "outputs": [
    {
     "data": {
      "text/plain": [
       "[4, 3, 1, 1, 0]"
      ]
     },
     "execution_count": 7,
     "metadata": {},
     "output_type": "execute_result"
    }
   ],
   "source": [
    "prices = [1, 2, 3, 2, 3]\n",
    "\n",
    "def solution(prices):\n",
    "\n",
    "    # A temp list to store the answer.\n",
    "    results = []\n",
    "\n",
    "    # Start to iterate!\n",
    "    for i in range(len(prices)):\n",
    "\n",
    "        # assume the answer for the current item is 0.\n",
    "        result = 0\n",
    "\n",
    "        # Nested Iteration (current item < j <= end item)\n",
    "        for j in range(i + 1, len(prices), 1):\n",
    "\n",
    "            # Price not decreased: add 1\n",
    "            if prices[i] <= prices[j]:\n",
    "                result += 1\n",
    "            # Price decreased: add 1, then stop the Nested Iteration!\n",
    "            else:\n",
    "                result += 1\n",
    "                break\n",
    "\n",
    "        # Store the final answer for the current item.\n",
    "        results.append(result)\n",
    "\n",
    "    # Final Answers\n",
    "    return results\n",
    "\n",
    "solution(prices)"
   ]
  },
  {
   "cell_type": "code",
   "execution_count": null,
   "metadata": {},
   "outputs": [],
   "source": []
  }
 ],
 "metadata": {
  "kernelspec": {
   "display_name": "Python 3",
   "language": "python",
   "name": "python3"
  },
  "language_info": {
   "codemirror_mode": {
    "name": "ipython",
    "version": 3
   },
   "file_extension": ".py",
   "mimetype": "text/x-python",
   "name": "python",
   "nbconvert_exporter": "python",
   "pygments_lexer": "ipython3",
   "version": "3.8.10"
  }
 },
 "nbformat": 4,
 "nbformat_minor": 2
}
