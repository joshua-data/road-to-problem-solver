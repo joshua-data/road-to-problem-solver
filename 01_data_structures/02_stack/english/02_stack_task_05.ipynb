{
 "cells": [
  {
   "cell_type": "markdown",
   "metadata": {},
   "source": [
    "# Check if Trees are Same as!\n",
    "* [Link](https://leetcode.com/problems/same-tree/description/)"
   ]
  },
  {
   "cell_type": "markdown",
   "metadata": {},
   "source": [
    "# My Approach"
   ]
  },
  {
   "cell_type": "code",
   "execution_count": 26,
   "metadata": {},
   "outputs": [],
   "source": [
    "import binarytree\n",
    "\n",
    "p = binarytree.build([1, 2])\n",
    "q = binarytree.build([1, None, 2])\n",
    "\n",
    "class TreeNode:\n",
    "    def __init__(self, val=0, left=None, right=None):\n",
    "        self.val = val\n",
    "        self.left = left\n",
    "        self.right = right\n",
    "\n",
    "class Solution:\n",
    "    def isSameTree(self, p: TreeNode, q: TreeNode) -> bool:\n",
    "\n",
    "        # Both p and q are None: SAME!\n",
    "        if p is None and q is None:\n",
    "            return True\n",
    "        # Either p or q is None: DIFFERENT!\n",
    "        elif p is None or q is None:\n",
    "            return False\n",
    "        # the values are different from each other: DIFFERENT!\n",
    "        elif p.val != q.val:\n",
    "            return False\n",
    "\n",
    "        # Do Recursive with the left part and the right part.\n",
    "        return self.isSameTree(p.left, q.left) and self.isSameTree(p.right, q.right)"
   ]
  },
  {
   "cell_type": "code",
   "execution_count": null,
   "metadata": {},
   "outputs": [],
   "source": []
  }
 ],
 "metadata": {
  "kernelspec": {
   "display_name": "Python 3",
   "language": "python",
   "name": "python3"
  },
  "language_info": {
   "codemirror_mode": {
    "name": "ipython",
    "version": 3
   },
   "file_extension": ".py",
   "mimetype": "text/x-python",
   "name": "python",
   "nbconvert_exporter": "python",
   "pygments_lexer": "ipython3",
   "version": "3.8.10"
  }
 },
 "nbformat": 4,
 "nbformat_minor": 2
}
