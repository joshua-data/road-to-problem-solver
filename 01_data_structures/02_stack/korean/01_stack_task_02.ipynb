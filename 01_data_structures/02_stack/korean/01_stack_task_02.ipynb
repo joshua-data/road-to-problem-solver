{
 "cells": [
  {
   "cell_type": "markdown",
   "metadata": {},
   "source": [
    "# Valid Parentheses\n",
    "* [Link](https://leetcode.com/problems/valid-parentheses/description/)"
   ]
  },
  {
   "cell_type": "markdown",
   "metadata": {},
   "source": [
    "# My Approach"
   ]
  },
  {
   "cell_type": "code",
   "execution_count": 1,
   "metadata": {},
   "outputs": [
    {
     "data": {
      "text/plain": [
       "False"
      ]
     },
     "execution_count": 1,
     "metadata": {},
     "output_type": "execute_result"
    }
   ],
   "source": [
    "string = '()[]{}'\n",
    "\n",
    "def solution(string):\n",
    "\n",
    "    # 조건을 잘 지키는지 확인하기 위한 List\n",
    "    temps = []\n",
    "\n",
    "    for s in string:\n",
    "\n",
    "        # Open Bracket이면: 저장해두기\n",
    "        if s in ['(', '[', '{']:\n",
    "            temps.append(s)\n",
    "        # Closing Bracket이면: temps를 먼저 확인해보기\n",
    "        else:\n",
    "            # 아직 저장해둔 게 없으면: WRONG!\n",
    "            if temps is None:\n",
    "                return False\n",
    "\n",
    "            # temps에 저장해둔 마지막 Open Brackets와 동일한 유형이면: 마지막 Open Brackets를 삭제해준 후, 무사히 통과!\n",
    "            if temps[-1] == '(' and s == ')':\n",
    "                temps.pop()\n",
    "            elif temps[-1] == '[' and s == ']':\n",
    "                temps.pop()\n",
    "            elif temps[-1] == '{' and s == '}':\n",
    "                temps.pop()\n",
    "            # temps에 저장해둔 마지막 Open Brackets와 동일한 유형이 아니면: WRONG!\n",
    "            else:\n",
    "                return False\n",
    "\n",
    "    # [Iteration 끝!]\n",
    "    # 저장해둔 게 아무것도 없으면: 통과!\n",
    "    if temps is None:\n",
    "        return True\n",
    "    # 저장해둔 게 남아 있으면: WRONG!\n",
    "    else:\n",
    "        return False\n",
    "\n",
    "solution(string)    "
   ]
  },
  {
   "cell_type": "code",
   "execution_count": null,
   "metadata": {},
   "outputs": [],
   "source": []
  }
 ],
 "metadata": {
  "kernelspec": {
   "display_name": "Python 3",
   "language": "python",
   "name": "python3"
  },
  "language_info": {
   "codemirror_mode": {
    "name": "ipython",
    "version": 3
   },
   "file_extension": ".py",
   "mimetype": "text/x-python",
   "name": "python",
   "nbconvert_exporter": "python",
   "pygments_lexer": "ipython3",
   "version": "3.8.10"
  }
 },
 "nbformat": 4,
 "nbformat_minor": 2
}
