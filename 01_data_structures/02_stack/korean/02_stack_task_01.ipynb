{
 "cells": [
  {
   "cell_type": "markdown",
   "metadata": {},
   "source": [
    "# 올바른 괄호\n",
    "* [Link](https://school.programmers.co.kr/learn/courses/30/lessons/12909)"
   ]
  },
  {
   "cell_type": "markdown",
   "metadata": {},
   "source": [
    "# My Approach"
   ]
  },
  {
   "cell_type": "code",
   "execution_count": 1,
   "metadata": {},
   "outputs": [
    {
     "data": {
      "text/plain": [
       "True"
      ]
     },
     "execution_count": 1,
     "metadata": {},
     "output_type": "execute_result"
    }
   ],
   "source": [
    "string = '(())()'\n",
    "\n",
    "# Loop을 통해 확인해야 할 조건 2가지\n",
    "    # (1) Iteration을 하면서, 중간에 \"Open Brackets 개수 < Closing Brackets 개수\" X\n",
    "    # (2) Iteration 후, \"Open Brackets 개수 = Closing Brackets\" O\n",
    "\n",
    "def solution(s):\n",
    "\n",
    "    net_sum = 0\n",
    "\n",
    "    for s in string:\n",
    "        # Open Brackets: net_sum에 1 더하기\n",
    "        if s == '(':\n",
    "            net_sum += 1\n",
    "        # Closing Brackets: 먼저 net_sum 확인하기\n",
    "        else:\n",
    "            # net_sum이 0보다 크면: net_sum에 1 빼기\n",
    "            if net_sum > 0:\n",
    "                net_sum -= 1\n",
    "            # net_sum이 0이면: WRONG!\n",
    "            else:\n",
    "                return False\n",
    "\n",
    "    # [Iteration 끝!]\n",
    "    if net_sum == 0:\n",
    "        return True\n",
    "    else:\n",
    "        return False\n",
    "\n",
    "solution(string)    "
   ]
  },
  {
   "cell_type": "code",
   "execution_count": null,
   "metadata": {},
   "outputs": [],
   "source": []
  }
 ],
 "metadata": {
  "kernelspec": {
   "display_name": "Python 3",
   "language": "python",
   "name": "python3"
  },
  "language_info": {
   "codemirror_mode": {
    "name": "ipython",
    "version": 3
   },
   "file_extension": ".py",
   "mimetype": "text/x-python",
   "name": "python",
   "nbconvert_exporter": "python",
   "pygments_lexer": "ipython3",
   "version": "3.8.10"
  }
 },
 "nbformat": 4,
 "nbformat_minor": 2
}
