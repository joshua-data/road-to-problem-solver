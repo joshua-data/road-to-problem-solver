{
 "cells": [
  {
   "cell_type": "markdown",
   "metadata": {},
   "source": [
    "# Generate Parentheses\n",
    "* [Link](https://leetcode.com/problems/generate-parentheses/description/)"
   ]
  },
  {
   "cell_type": "markdown",
   "metadata": {},
   "source": [
    "# My Approach"
   ]
  },
  {
   "cell_type": "code",
   "execution_count": 5,
   "metadata": {},
   "outputs": [
    {
     "data": {
      "text/plain": [
       "['((()))', '(()())', '(())()', '()(())', '()()()']"
      ]
     },
     "execution_count": 5,
     "metadata": {},
     "output_type": "execute_result"
    }
   ],
   "source": [
    "def solution(n):\n",
    "\n",
    "    # 가능한 케이스를 담아두는 리스트\n",
    "    results = []\n",
    "\n",
    "    # Recursive하게 반복 실행할 함수: Open Brackets 개수와 Closing Brackets 개수에 따라!\n",
    "    def recursive_create_result(result, open_cnt, closing_cnt):\n",
    "\n",
    "        # 먼저 올바른 케이스인지 확인부터 하고 넘어가자!\n",
    "\n",
    "        # (1) n개 만큼 모두 작성했으면: 케이스를 담아두기\n",
    "        if open_cnt == n and closing_cnt == n:\n",
    "            return results.append(result)\n",
    "        # (2) n개를 넘어섰으면: 넌 실패!\n",
    "        elif open_cnt > n or closing_cnt > n:\n",
    "            return\n",
    "        # (3) \"Open Brackets 개수 < Closing Brackets 개수\"가 되어버렸으면: 넌 실패!\n",
    "        elif open_cnt < closing_cnt:\n",
    "            return\n",
    "\n",
    "        # 자 이제 반복 실행하자!\n",
    "        # (1) Open Bracket을 하나 추가해보기\n",
    "        recursive_create_result(result + '(', open_cnt + 1, closing_cnt)\n",
    "        # (2) Closing Bracket을 하나 추가해보기\n",
    "        recursive_create_result(result + ')', open_cnt, closing_cnt + 1)\n",
    "\n",
    "    # 제로베이스부터 시작\n",
    "    recursive_create_result('', 0, 0)\n",
    "    \n",
    "    return results\n",
    "\n",
    "solution(3)"
   ]
  },
  {
   "cell_type": "code",
   "execution_count": null,
   "metadata": {},
   "outputs": [],
   "source": []
  }
 ],
 "metadata": {
  "kernelspec": {
   "display_name": "Python 3",
   "language": "python",
   "name": "python3"
  },
  "language_info": {
   "codemirror_mode": {
    "name": "ipython",
    "version": 3
   },
   "file_extension": ".py",
   "mimetype": "text/x-python",
   "name": "python",
   "nbconvert_exporter": "python",
   "pygments_lexer": "ipython3",
   "version": "3.8.10"
  }
 },
 "nbformat": 4,
 "nbformat_minor": 2
}
