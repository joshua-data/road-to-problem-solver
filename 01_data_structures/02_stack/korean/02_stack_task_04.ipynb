{
 "cells": [
  {
   "cell_type": "markdown",
   "metadata": {},
   "source": [
    "# Stock Prices\n",
    "* [Link](https://school.programmers.co.kr/learn/courses/30/lessons/42584)"
   ]
  },
  {
   "cell_type": "markdown",
   "metadata": {},
   "source": [
    "# My Approach"
   ]
  },
  {
   "cell_type": "code",
   "execution_count": 1,
   "metadata": {},
   "outputs": [
    {
     "data": {
      "text/plain": [
       "[4, 3, 2, 1, 0]"
      ]
     },
     "execution_count": 1,
     "metadata": {},
     "output_type": "execute_result"
    }
   ],
   "source": [
    "prices = [1, 2, 3, 2, 3]\n",
    "\n",
    "def solution(prices):\n",
    "\n",
    "    # 정답을 담아둘 리스트\n",
    "    results = []\n",
    "\n",
    "    # Iteration 시작!\n",
    "    for i in range(len(prices)):\n",
    "\n",
    "        # 현재 Index의 정답은 일단 0이라고 간주하기\n",
    "        result = 0\n",
    "\n",
    "        # 현재 Index 이후부터 끝까지 Nested Iteration 시작!\n",
    "        for j in range(i + 1, len(prices), 1):\n",
    "\n",
    "            # 먼저 1 더해주기\n",
    "            result += 1\n",
    "            # 가격이 떨어지지 않았으면: Nested Iteration 계속하기! \n",
    "            if prices[i] <= prices[j]:\n",
    "                continue\n",
    "            # 가격이 떨어졌으면: Nested Iteration 멈추기!\n",
    "            else:\n",
    "                result += 1\n",
    "                break\n",
    "\n",
    "        # Nested Iteration 끝났으니 정답을 리스트에 저장해주기\n",
    "        results.append(result)\n",
    "\n",
    "    # 최종 정답 리턴\n",
    "    return results\n",
    "\n",
    "solution(prices)"
   ]
  },
  {
   "cell_type": "code",
   "execution_count": null,
   "metadata": {},
   "outputs": [],
   "source": []
  }
 ],
 "metadata": {
  "kernelspec": {
   "display_name": "Python 3",
   "language": "python",
   "name": "python3"
  },
  "language_info": {
   "codemirror_mode": {
    "name": "ipython",
    "version": 3
   },
   "file_extension": ".py",
   "mimetype": "text/x-python",
   "name": "python",
   "nbconvert_exporter": "python",
   "pygments_lexer": "ipython3",
   "version": "3.11.7"
  }
 },
 "nbformat": 4,
 "nbformat_minor": 2
}
