{
 "cells": [
  {
   "cell_type": "markdown",
   "metadata": {},
   "source": [
    "# Same Tree\n",
    "* [Link](https://leetcode.com/problems/same-tree/description/)"
   ]
  },
  {
   "cell_type": "markdown",
   "metadata": {},
   "source": [
    "# My Approach"
   ]
  },
  {
   "cell_type": "code",
   "execution_count": 26,
   "metadata": {},
   "outputs": [],
   "source": [
    "import binarytree\n",
    "\n",
    "p = binarytree.build([1, 2])\n",
    "q = binarytree.build([1, None, 2])\n",
    "\n",
    "class TreeNode:\n",
    "    def __init__(self, val=0, left=None, right=None):\n",
    "        self.val = val\n",
    "        self.left = left\n",
    "        self.right = right\n",
    "\n",
    "class Solution:\n",
    "    def isSameTree(self, p: TreeNode, q: TreeNode) -> bool:\n",
    "\n",
    "        # 만약 p와 q 둘 다 None이면: SAME!\n",
    "        if p is None and q is None:\n",
    "            return True\n",
    "        # 둘 중 하나만 None이면: DIFFERENT!\n",
    "        elif p is None or q is None:\n",
    "            return False\n",
    "        # 서로 값이 다르면: DIFFERENT!\n",
    "        elif p.val != q.val:\n",
    "            return False\n",
    "\n",
    "        # Left 부분과 Right 부분에 대해 Recursive 반복 실행해주기!\n",
    "        return self.isSameTree(p.left, q.left) and self.isSameTree(p.right, q.right)"
   ]
  },
  {
   "cell_type": "code",
   "execution_count": null,
   "metadata": {},
   "outputs": [],
   "source": []
  }
 ],
 "metadata": {
  "kernelspec": {
   "display_name": "Python 3",
   "language": "python",
   "name": "python3"
  },
  "language_info": {
   "codemirror_mode": {
    "name": "ipython",
    "version": 3
   },
   "file_extension": ".py",
   "mimetype": "text/x-python",
   "name": "python",
   "nbconvert_exporter": "python",
   "pygments_lexer": "ipython3",
   "version": "3.8.10"
  }
 },
 "nbformat": 4,
 "nbformat_minor": 2
}
