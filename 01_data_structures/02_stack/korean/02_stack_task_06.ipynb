{
 "cells": [
  {
   "cell_type": "markdown",
   "metadata": {},
   "source": [
    "# Invert Binary Tree\n",
    "* [Link](https://www.algodale.com/problems/invert-binary-tree/)"
   ]
  },
  {
   "cell_type": "markdown",
   "metadata": {},
   "source": [
    "# My Approach"
   ]
  },
  {
   "cell_type": "code",
   "execution_count": 3,
   "metadata": {},
   "outputs": [],
   "source": [
    "import binarytree\n",
    "\n",
    "p = binarytree.build([4,2,7,1,3,6,9])\n",
    "\n",
    "class TreeNode:\n",
    "    def __init__(self, val=0, left=None, right=None):\n",
    "        self.val = val\n",
    "        self.left = left\n",
    "        self.right = right\n",
    "\n",
    "class Solution:\n",
    "    def invertTree(self, root:TreeNode) -> TreeNode:\n",
    "        # 아무것도 없으면: 아무것도 하지마!\n",
    "        if root is None:\n",
    "            return\n",
    "        # [Recursive하게 각 Left 부분과 Right 부분을 깊게 파면서] 서로 바꿔줘!\n",
    "        root.left, root.right = self.invertTree(root.right), self.invertTree(root.left)\n",
    "\n",
    "        # 정답을 뱉어줘!\n",
    "        return root"
   ]
  },
  {
   "cell_type": "code",
   "execution_count": null,
   "metadata": {},
   "outputs": [],
   "source": []
  }
 ],
 "metadata": {
  "kernelspec": {
   "display_name": "Python 3",
   "language": "python",
   "name": "python3"
  },
  "language_info": {
   "codemirror_mode": {
    "name": "ipython",
    "version": 3
   },
   "file_extension": ".py",
   "mimetype": "text/x-python",
   "name": "python",
   "nbconvert_exporter": "python",
   "pygments_lexer": "ipython3",
   "version": "3.8.10"
  }
 },
 "nbformat": 4,
 "nbformat_minor": 2
}
