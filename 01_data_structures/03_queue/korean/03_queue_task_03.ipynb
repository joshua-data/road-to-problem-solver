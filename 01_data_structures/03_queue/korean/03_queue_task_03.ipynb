{
 "cells": [
  {
   "cell_type": "markdown",
   "metadata": {},
   "source": [
    "# Merge k Sorted Lists\n",
    "* [Link](https://leetcode.com/problems/merge-k-sorted-lists/description/)"
   ]
  },
  {
   "cell_type": "markdown",
   "metadata": {},
   "source": [
    "# My Approach"
   ]
  },
  {
   "cell_type": "markdown",
   "metadata": {},
   "source": [
    "### Class 정의하기: `Linked List`"
   ]
  },
  {
   "cell_type": "code",
   "execution_count": 2,
   "metadata": {},
   "outputs": [],
   "source": [
    "class ListNode:\n",
    "    def __init__(self, val=0, next=None):\n",
    "        self.val = val\n",
    "        self.next = next"
   ]
  },
  {
   "cell_type": "markdown",
   "metadata": {},
   "source": [
    "### Linked List 하나 만들어보기\n",
    "* `[[1 -> 4 -> 5], [1 -> 3 -> 4], [2 -> 6]]`"
   ]
  },
  {
   "cell_type": "code",
   "execution_count": 3,
   "metadata": {},
   "outputs": [
    {
     "name": "stdout",
     "output_type": "stream",
     "text": [
      "1 -> 4 -> 5\n",
      "1 -> 3 -> 4\n",
      "2 -> 6\n"
     ]
    }
   ],
   "source": [
    "lists = []\n",
    "\n",
    "# 1 -> 4 -> 5\n",
    "head = ListNode(1)\n",
    "curr_node = head\n",
    "curr_node.next = ListNode(4)\n",
    "curr_node = curr_node.next\n",
    "curr_node.next = ListNode(5)\n",
    "lists.append(head)\n",
    "# 1 -> 3 -> 4\n",
    "head = ListNode(1)\n",
    "curr_node = head\n",
    "curr_node.next = ListNode(3)\n",
    "curr_node = curr_node.next\n",
    "curr_node.next = ListNode(4)\n",
    "lists.append(head)\n",
    "# 2 -> 6\n",
    "head = ListNode(2)\n",
    "curr_node = head\n",
    "curr_node.next = ListNode(6)\n",
    "lists.append(head)\n",
    "\n",
    "# print\n",
    "for head in lists:\n",
    "    node = head\n",
    "    i = 0\n",
    "    while node:\n",
    "        if i == 0:        \n",
    "            message = f'{node.val}'\n",
    "        else:\n",
    "            message += f' -> {node.val}'\n",
    "        node = node.next\n",
    "        i += 1\n",
    "    print(message)"
   ]
  },
  {
   "cell_type": "markdown",
   "metadata": {},
   "source": [
    "### 문제를 풀어보자!"
   ]
  },
  {
   "cell_type": "code",
   "execution_count": 4,
   "metadata": {},
   "outputs": [],
   "source": [
    "class Solution:\n",
    "    def mergeKLists(self, lists) -> ListNode:\n",
    "\n",
    "        # 먼저 각 value 객체를 담을 리스트를 준비했어요.\n",
    "        values = []\n",
    "\n",
    "        # 모든 Linked Lists를 돌아가면서 각 node의 값을 리스트에 담았어요.\n",
    "        for head in lists:\n",
    "            curr_node = head\n",
    "            while curr_node:\n",
    "                values.append(curr_node.val)\n",
    "                curr_node = curr_node.next\n",
    "\n",
    "        # Linked List가 하나도 없을 수 있으니 fake_node를 붙인 후 시작했어요.\n",
    "        fake_head = ListNode(-1)\n",
    "        curr_node = fake_head\n",
    "\n",
    "        # sorted된 리스트를 돌아가면서 모두 Linked List로 변환했어요.\n",
    "        for value in sorted(values):\n",
    "            curr_node.next = ListNode(value)\n",
    "            curr_node = curr_node.next\n",
    "\n",
    "        # 마지막에는 fake_node를 제거한 후 Linked List를 리턴했어요.\n",
    "        return fake_head.next"
   ]
  },
  {
   "cell_type": "markdown",
   "metadata": {},
   "source": [
    "### 아까 만든 Linked List로 함수 실행해보자!\n",
    "* **원래**: `[1 -> 2 -> 3 -> 4 -> 5]`\n",
    "* **적용 후**: `[1 -> 2 -> 3 -> 4]`"
   ]
  },
  {
   "cell_type": "code",
   "execution_count": 6,
   "metadata": {},
   "outputs": [
    {
     "name": "stdout",
     "output_type": "stream",
     "text": [
      "START -> 1 -> 1 -> 2 -> 3 -> 4 -> 4 -> 5 -> 6\n"
     ]
    }
   ],
   "source": [
    "head = Solution.mergeKLists(Solution, lists)\n",
    "\n",
    "node = head\n",
    "\n",
    "message = 'START'\n",
    "while node:\n",
    "    message += f' -> {node.val}'\n",
    "    node = node.next\n",
    "print(message)"
   ]
  },
  {
   "cell_type": "code",
   "execution_count": null,
   "metadata": {},
   "outputs": [],
   "source": []
  }
 ],
 "metadata": {
  "kernelspec": {
   "display_name": "Python 3",
   "language": "python",
   "name": "python3"
  },
  "language_info": {
   "codemirror_mode": {
    "name": "ipython",
    "version": 3
   },
   "file_extension": ".py",
   "mimetype": "text/x-python",
   "name": "python",
   "nbconvert_exporter": "python",
   "pygments_lexer": "ipython3",
   "version": "3.8.10"
  }
 },
 "nbformat": 4,
 "nbformat_minor": 2
}
