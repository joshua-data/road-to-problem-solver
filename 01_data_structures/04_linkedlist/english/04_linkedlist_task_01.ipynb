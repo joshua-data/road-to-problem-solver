{
 "cells": [
  {
   "cell_type": "markdown",
   "metadata": {},
   "source": [
    "# Merge Two Sorted Lists\n",
    "* [Link](https://leetcode.com/problems/merge-two-sorted-lists/description/)"
   ]
  },
  {
   "cell_type": "markdown",
   "metadata": {},
   "source": [
    "# My Approach"
   ]
  },
  {
   "cell_type": "markdown",
   "metadata": {},
   "source": [
    "### Define Class: `Linked List`"
   ]
  },
  {
   "cell_type": "code",
   "execution_count": 1,
   "metadata": {},
   "outputs": [],
   "source": [
    "class ListNode:\n",
    "    def __init__(self, val=0, next=None):\n",
    "        self.val = val\n",
    "        self.next = next"
   ]
  },
  {
   "cell_type": "markdown",
   "metadata": {},
   "source": [
    "### Solve the problem!"
   ]
  },
  {
   "cell_type": "code",
   "execution_count": 2,
   "metadata": {},
   "outputs": [],
   "source": [
    "class Solution:\n",
    "    def mergeTwoLists(self, list1: ListNode, list2: ListNode) -> ListNode:\n",
    "\n",
    "        # STEP 1) Put both list1 and list2 into a regular list\n",
    "\n",
    "        # (1) First, prepare a regular list to hold the elements of list1 and list2.\n",
    "        union_list = []\n",
    "\n",
    "        # (2) Loop through list1 and list2 and put them into the regular list.\n",
    "        for each_linked_list in [list1, list2]:\n",
    "\n",
    "            head = each_linked_list\n",
    "            # Since list1 and list2 may be empty, let's connect a fake_head and start from there.\n",
    "            fake_head = ListNode(None, head)\n",
    "\n",
    "            # Start looping through the nodes and add them to the list!\n",
    "            curr_node = fake_head.next\n",
    "            while curr_node:\n",
    "                union_list.append(curr_node.val) # Add to the list\n",
    "                curr_node = curr_node.next # Bring out the next node\n",
    "\n",
    "        # STEP 2) Now that everything is in the regular list, let's sort it and turn it into a new linked list.\n",
    "\n",
    "        # (1) There might be nothing in the regular list, so let's attach a fake_head and start.\n",
    "        fake_head = ListNode(-1)\n",
    "        curr_node = fake_head\n",
    "\n",
    "        # (2) Transform it!\n",
    "        for v in sorted(union_list):\n",
    "            curr_node.next = ListNode(v)\n",
    "            curr_node = curr_node.next\n",
    "\n",
    "        # (3) Fake_head, you're fake, so step aside!\n",
    "        return fake_head.next"
   ]
  }
 ],
 "metadata": {
  "kernelspec": {
   "display_name": "Python 3",
   "language": "python",
   "name": "python3"
  },
  "language_info": {
   "codemirror_mode": {
    "name": "ipython",
    "version": 3
   },
   "file_extension": ".py",
   "mimetype": "text/x-python",
   "name": "python",
   "nbconvert_exporter": "python",
   "pygments_lexer": "ipython3",
   "version": "3.8.10"
  }
 },
 "nbformat": 4,
 "nbformat_minor": 2
}
