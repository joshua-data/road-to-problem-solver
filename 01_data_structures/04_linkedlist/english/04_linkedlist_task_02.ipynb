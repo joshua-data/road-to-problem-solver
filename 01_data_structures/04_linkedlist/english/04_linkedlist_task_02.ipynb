{
 "cells": [
  {
   "cell_type": "markdown",
   "metadata": {},
   "source": [
    "# Reverse Linked List\n",
    "* [Link](https://leetcode.com/problems/reverse-linked-list/description/)"
   ]
  },
  {
   "cell_type": "markdown",
   "metadata": {},
   "source": [
    "# My Approach"
   ]
  },
  {
   "cell_type": "markdown",
   "metadata": {},
   "source": [
    "### Define Class: `Linked List`"
   ]
  },
  {
   "cell_type": "code",
   "execution_count": 1,
   "metadata": {},
   "outputs": [],
   "source": [
    "class ListNode:\n",
    "    def __init__(self, val=0, next=None):\n",
    "        self.val = val\n",
    "        self.next = next"
   ]
  },
  {
   "cell_type": "markdown",
   "metadata": {},
   "source": [
    "### Solve the problem!"
   ]
  },
  {
   "cell_type": "code",
   "execution_count": 2,
   "metadata": {},
   "outputs": [],
   "source": [
    "class Solution:\n",
    "    def reverseList(self, head: ListNode) -> ListNode:\n",
    "\n",
    "        # STEP 1) First, let's add the elements in reverse to a regular list.\n",
    "\n",
    "        # (1) Prepare a regular list to hold the elements of the linked list.\n",
    "        reversed_list = []\n",
    "\n",
    "        # (2) Loop through the linked list and add the elements to the regular list.\n",
    "\n",
    "        # Since the linked list might be empty, let's connect a fake_head and start from there.\n",
    "        fake_head = ListNode(None, head)\n",
    "\n",
    "        # Start looping and adding!\n",
    "        curr_node = fake_head.next\n",
    "        while curr_node:\n",
    "            reversed_list.insert(0, curr_node.val) # Add at the 0th index (this will add in reverse order)\n",
    "            curr_node = curr_node.next # Bring out the next node\n",
    "        \n",
    "        # STEP 2) Now that everything is in the regular list, let's convert it back into a linked list.\n",
    "\n",
    "        # (1) There might be nothing in the regular list, so let's attach a fake_head and start.\n",
    "        fake_head = ListNode(-1)\n",
    "        curr_node = fake_head\n",
    "\n",
    "        # (2) Transform it!\n",
    "        for v in reversed_list:\n",
    "            curr_node.next = ListNode(v)\n",
    "            curr_node = curr_node.next\n",
    "\n",
    "        # (3) Fake_head, you're fake, so step aside!\n",
    "        return fake_head.next"
   ]
  },
  {
   "cell_type": "code",
   "execution_count": null,
   "metadata": {},
   "outputs": [],
   "source": []
  }
 ],
 "metadata": {
  "kernelspec": {
   "display_name": "Python 3",
   "language": "python",
   "name": "python3"
  },
  "language_info": {
   "codemirror_mode": {
    "name": "ipython",
    "version": 3
   },
   "file_extension": ".py",
   "mimetype": "text/x-python",
   "name": "python",
   "nbconvert_exporter": "python",
   "pygments_lexer": "ipython3",
   "version": "3.8.10"
  }
 },
 "nbformat": 4,
 "nbformat_minor": 2
}
