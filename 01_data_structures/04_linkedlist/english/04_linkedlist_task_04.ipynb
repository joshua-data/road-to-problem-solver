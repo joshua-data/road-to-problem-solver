{
 "cells": [
  {
   "cell_type": "markdown",
   "metadata": {},
   "source": [
    "# Add Two Numbers\n",
    "* [Link](https://leetcode.com/problems/add-two-numbers/description/)"
   ]
  },
  {
   "cell_type": "markdown",
   "metadata": {},
   "source": [
    "# My Approach"
   ]
  },
  {
   "cell_type": "markdown",
   "metadata": {},
   "source": [
    "### Define Class: `Linked List`"
   ]
  },
  {
   "cell_type": "code",
   "execution_count": 3,
   "metadata": {},
   "outputs": [],
   "source": [
    "class ListNode:\n",
    "    def __init__(self, val=0, next=None):\n",
    "        self.val = val\n",
    "        self.next = next"
   ]
  },
  {
   "cell_type": "markdown",
   "metadata": {},
   "source": [
    "### Solve the problem!"
   ]
  },
  {
   "cell_type": "code",
   "execution_count": 20,
   "metadata": {},
   "outputs": [],
   "source": [
    "class Solution:\n",
    "    def addTwoNumbers(self, l1: ListNode, l2: ListNode) -> ListNode:\n",
    "\n",
    "        # Agreement) I will refer to the linked list that adds l1 and l2 as l3.\n",
    "            # l3 = l1 + l2\n",
    "\n",
    "        # STEP 1) Let's connect fake_head to l1, l2, and l3 and start.\n",
    "        fake_head1, fake_head2 = ListNode(None, l1), ListNode(None, l2)\n",
    "        fake_head3 = ListNode(-1)\n",
    "        curr_node3 = fake_head3\n",
    "\n",
    "        # STEP 2) Let's start pointing to the next node of fake_head.\n",
    "        curr_node1,  curr_node2 = fake_head1.next, fake_head2.next\n",
    "\n",
    "        # STEP 3) Now, let's loop through each node and perform the addition.\n",
    "\n",
    "        # (1) Initialize tens place = 0\n",
    "        prev_digit2 = 0\n",
    "\n",
    "        # (2) Loop! (If there's at least one node left in l1 or l2, or if there's a tens place left, we haven't finished adding yet, so we keep looping.)\n",
    "        while curr_node1 or curr_node2 or prev_digit2 > 0:\n",
    "\n",
    "            curr_val1 = 0 if curr_node1 is None else curr_node1.val # Get the l1 node, but if it doesn't exist, get 0 instead.\n",
    "            curr_val2 = 0 if curr_node2 is None else curr_node2.val # Get the l2 node, but if it doesn't exist, get 0 instead.\n",
    "\n",
    "            sum = (curr_val1 + curr_val2 + prev_digit2) # \"l1 node\" + \"l2 node\" + \"carried tens place\"\n",
    "\n",
    "            # Get the ones place and tens place. (This depends on whether sum is 10 or more, so we use a lambda function.)\n",
    "            digit1, digit2 = (sum - 10, 1) if sum >= 10 else (sum, 0)\n",
    "\n",
    "            # Record the tens place since it will be used in the next loop.\n",
    "            prev_digit2 = digit2\n",
    "\n",
    "            # Record the calculated ones place in l3!\n",
    "            curr_node3.next = ListNode(digit1)\n",
    "            curr_node3 = curr_node3.next\n",
    "\n",
    "            # If there is a next node in l1 or l2, bring it in!\n",
    "            curr_node1 = curr_node1.next if curr_node1 else None\n",
    "            curr_node2 = curr_node2.next if curr_node2 else None\n",
    "\n",
    "        # STEP 4) Fake_head, step aside!\n",
    "        return fake_head3.next"
   ]
  }
 ],
 "metadata": {
  "kernelspec": {
   "display_name": "Python 3",
   "language": "python",
   "name": "python3"
  },
  "language_info": {
   "codemirror_mode": {
    "name": "ipython",
    "version": 3
   },
   "file_extension": ".py",
   "mimetype": "text/x-python",
   "name": "python",
   "nbconvert_exporter": "python",
   "pygments_lexer": "ipython3",
   "version": "3.8.10"
  }
 },
 "nbformat": 4,
 "nbformat_minor": 2
}
