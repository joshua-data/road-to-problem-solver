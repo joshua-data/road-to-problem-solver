{
 "cells": [
  {
   "cell_type": "markdown",
   "metadata": {},
   "source": [
    "# Merge Two Sorted Lists\n",
    "* [Link](https://leetcode.com/problems/merge-two-sorted-lists/description/)"
   ]
  },
  {
   "cell_type": "markdown",
   "metadata": {},
   "source": [
    "# My Approach"
   ]
  },
  {
   "cell_type": "markdown",
   "metadata": {},
   "source": [
    "### Class 정의하기: `Linked List`"
   ]
  },
  {
   "cell_type": "code",
   "execution_count": 1,
   "metadata": {},
   "outputs": [],
   "source": [
    "class ListNode:\n",
    "    def __init__(self, val=0, next=None):\n",
    "        self.val = val\n",
    "        self.next = next"
   ]
  },
  {
   "cell_type": "markdown",
   "metadata": {},
   "source": [
    "### 문제를 풀어보자!"
   ]
  },
  {
   "cell_type": "code",
   "execution_count": 2,
   "metadata": {},
   "outputs": [],
   "source": [
    "class Solution:\n",
    "    def mergeTwoLists(self, list1: ListNode, list2: ListNode) -> ListNode:\n",
    "\n",
    "        # STEP 1) list1과 list2를 일반 List에 모두 담아보기\n",
    "\n",
    "        # (1) 먼저 list1과 list2의 elements를 담을 일반 List를 준비해볼게요.\n",
    "        union_list = []\n",
    "\n",
    "        # (2) list1과 list2를 돌면서, 일반 List에 모두 담아볼게요.\n",
    "        for each_linked_list in [list1, list2]:\n",
    "\n",
    "            head = each_linked_list\n",
    "            # list1과 list2에 아무것도 없을 수 있으므로, 다음과 같이 fake_head를 연결하고 시작할게요.\n",
    "            fake_head = ListNode(None, head)\n",
    "\n",
    "            # 본격적으로 돌면서 담기 시작!\n",
    "            curr_node = fake_head.next\n",
    "            while curr_node:\n",
    "                union_list.append(curr_node.val) # 담아줘\n",
    "                curr_node = curr_node.next # 다음 노드 나와라\n",
    "\n",
    "        # STEP 2) 이제 일반 List에 모두 담겼으니, Sort를 해서 새로운 Linked List로 바꿔볼게요.\n",
    "\n",
    "        # (1) 일반 List에 아무것도 없을 수도 있으니 fake_head를 붙인 후 시작하죠.\n",
    "        fake_head = ListNode(-1)\n",
    "        curr_node = fake_head\n",
    "\n",
    "        # (2) 바꿔라 바꿔라\n",
    "        for v in sorted(union_list):\n",
    "            curr_node.next = ListNode(v)\n",
    "            curr_node = curr_node.next\n",
    "\n",
    "        # (3) fake_head 넌 가짜니까 빠져!\n",
    "        return fake_head.next"
   ]
  },
  {
   "cell_type": "code",
   "execution_count": null,
   "metadata": {},
   "outputs": [],
   "source": []
  }
 ],
 "metadata": {
  "kernelspec": {
   "display_name": "Python 3",
   "language": "python",
   "name": "python3"
  },
  "language_info": {
   "codemirror_mode": {
    "name": "ipython",
    "version": 3
   },
   "file_extension": ".py",
   "mimetype": "text/x-python",
   "name": "python",
   "nbconvert_exporter": "python",
   "pygments_lexer": "ipython3",
   "version": "3.8.10"
  }
 },
 "nbformat": 4,
 "nbformat_minor": 2
}
