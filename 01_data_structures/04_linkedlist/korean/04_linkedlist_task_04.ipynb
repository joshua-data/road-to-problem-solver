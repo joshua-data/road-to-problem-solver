{
 "cells": [
  {
   "cell_type": "markdown",
   "metadata": {},
   "source": [
    "# Add Two Numbers\n",
    "* [Link](https://leetcode.com/problems/add-two-numbers/description/)"
   ]
  },
  {
   "cell_type": "markdown",
   "metadata": {},
   "source": [
    "# My Approach"
   ]
  },
  {
   "cell_type": "markdown",
   "metadata": {},
   "source": [
    "### Class 정의하기: `Linked List`"
   ]
  },
  {
   "cell_type": "code",
   "execution_count": 3,
   "metadata": {},
   "outputs": [],
   "source": [
    "class ListNode:\n",
    "    def __init__(self, val=0, next=None):\n",
    "        self.val = val\n",
    "        self.next = next"
   ]
  },
  {
   "cell_type": "markdown",
   "metadata": {},
   "source": [
    "### 문제를 풀어보자!"
   ]
  },
  {
   "cell_type": "code",
   "execution_count": 20,
   "metadata": {},
   "outputs": [],
   "source": [
    "class Solution:\n",
    "    def addTwoNumbers(self, l1: ListNode, l2: ListNode) -> ListNode:\n",
    "\n",
    "        # 사전 약속) 저는 l1과 l2를 더해주는 Linked List를 l3로 칭할게요.\n",
    "            # l3 = l1 + l2\n",
    "\n",
    "        # STEP 1) l1, l2, l3 모두 fake_head부터 연결하고 시작할게요.\n",
    "        fake_head1, fake_head2 = ListNode(None, l1), ListNode(None, l2)\n",
    "        fake_head3 = ListNode(-1)\n",
    "        curr_node3 = fake_head3\n",
    "\n",
    "        # STEP 2) fake_head의 다음 노드부터 Pointing을 해보죠.\n",
    "        curr_node1,  curr_node2 = fake_head1.next, fake_head2.next\n",
    "\n",
    "        # STEP 3) 이제 각 노드를 돌아가면서 덧셈을 해볼까요?\n",
    "\n",
    "        # (1) 십의 자리 수 = 0 으로 잡아놓고 시작\n",
    "        prev_digit2 = 0\n",
    "\n",
    "        # (2) 돌아라! (l1과 l2 중 아직 노드가 하나라도 남아 있거나, 십의 자리 수가 남아 있으면 덧셈이 끝나지 않았으니 계속 돌아야 해요.)\n",
    "        while curr_node1 or curr_node2 or prev_digit2 > 0:\n",
    "\n",
    "            curr_val1 = 0 if curr_node1 is None else curr_node1.val # l1 노드를 불러오되, 더 이상 없다면 0으로 불러와봐.\n",
    "            curr_val2 = 0 if curr_node2 is None else curr_node2.val # l2 노드를 불러오되, 더 이상 없다면 0으로 불러와봐.\n",
    "\n",
    "            sum = (curr_val1 + curr_val2 + prev_digit2) # \"l1 노드\" + \"l2 노드\" + \"넘어온 십의 자리 수\"\n",
    "\n",
    "            # 1의 자리 수와 10의 자리 수를 구해줘. (sum이 10 이상 여부에 따라 달라져야 하므로, Lambda Function)\n",
    "            digit1, digit2 = (sum - 10, 1) if sum >= 10 else (sum, 0)\n",
    "\n",
    "            # 십의 자리 수를 다음 loop에서 참고해야 하니까 기록해둬.\n",
    "            prev_digit2 = digit2\n",
    "\n",
    "            # 계산한 1의 자리 수를 l3에 기록하자!\n",
    "            curr_node3.next = ListNode(digit1)\n",
    "            curr_node3 = curr_node3.next\n",
    "\n",
    "            # l1, l2의 다음 노드가 있으면 또 불러와봐!            \n",
    "            curr_node1 = curr_node1.next if curr_node1 else None\n",
    "            curr_node2 = curr_node2.next if curr_node2 else None\n",
    "\n",
    "        # STEP 4) fake_head 넌 빠져!\n",
    "        return fake_head3.next"
   ]
  }
 ],
 "metadata": {
  "kernelspec": {
   "display_name": "Python 3",
   "language": "python",
   "name": "python3"
  },
  "language_info": {
   "codemirror_mode": {
    "name": "ipython",
    "version": 3
   },
   "file_extension": ".py",
   "mimetype": "text/x-python",
   "name": "python",
   "nbconvert_exporter": "python",
   "pygments_lexer": "ipython3",
   "version": "3.8.10"
  }
 },
 "nbformat": 4,
 "nbformat_minor": 2
}
