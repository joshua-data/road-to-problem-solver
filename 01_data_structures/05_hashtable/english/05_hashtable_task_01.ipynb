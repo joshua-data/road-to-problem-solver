{
 "cells": [
  {
   "cell_type": "markdown",
   "metadata": {},
   "source": [
    "# Two Sum\n",
    "* [Link](https://leetcode.com/problems/two-sum/description/)"
   ]
  },
  {
   "cell_type": "markdown",
   "metadata": {},
   "source": [
    "# My Approach"
   ]
  },
  {
   "cell_type": "markdown",
   "metadata": {},
   "source": [
    "### Old Approach\n",
    "* Since a nested loop was used, the time complexity is O(n**2), which made it very inefficient.\n",
    "* Although the solution was correct, the speed was very slow."
   ]
  },
  {
   "cell_type": "code",
   "execution_count": 4,
   "metadata": {},
   "outputs": [],
   "source": [
    "def solution(nums, target):\n",
    "\n",
    "    # Loop through each item in the nums list\n",
    "    for i in range(len(nums)):\n",
    "        # Use bubble sorting with a nested loop\n",
    "        for j in range(i + 1, len(nums)):\n",
    "            # If the sum matches the target, return the answer!\n",
    "            if nums[i] + nums[j] == target:\n",
    "                return [i, j]"
   ]
  },
  {
   "cell_type": "markdown",
   "metadata": {},
   "source": [
    "### New Approach\n",
    "* Considering that a dictionary (or hash table) has a very efficient structure for key searching, I approached the problem by converting the existing list into a dictionary.\n",
    "* The solution was correct, and the speed was extremely fast."
   ]
  },
  {
   "cell_type": "code",
   "execution_count": 5,
   "metadata": {},
   "outputs": [],
   "source": [
    "def solution(nums, target):\n",
    "\n",
    "    # Dictionary to store the nums list in the following structure:\n",
    "    # Key: item value / Value: index of the item\n",
    "    nums_dict = {}\n",
    "\n",
    "    # Start looping through each item in the nums list!\n",
    "    for i, curr_num in enumerate(nums):\n",
    "        \n",
    "        # The remaining value needed to reach the target\n",
    "        remaining_num = target - curr_num\n",
    "\n",
    "        # Does the remaining value exist in the dictionary?\n",
    "        if remaining_num in nums_dict:\n",
    "            # Oh! Then the sum matches, so give me the index of that item!\n",
    "            j = nums_dict[remaining_num]\n",
    "            # Now return the correct answer!\n",
    "            return [i, j]\n",
    "\n",
    "        # It's not there... Let's add this one to nums_dict for now.\n",
    "        nums_dict[curr_num] = i"
   ]
  }
 ],
 "metadata": {
  "kernelspec": {
   "display_name": "3.8.10",
   "language": "python",
   "name": "python3"
  },
  "language_info": {
   "codemirror_mode": {
    "name": "ipython",
    "version": 3
   },
   "file_extension": ".py",
   "mimetype": "text/x-python",
   "name": "python",
   "nbconvert_exporter": "python",
   "pygments_lexer": "ipython3",
   "version": "3.8.10"
  }
 },
 "nbformat": 4,
 "nbformat_minor": 2
}
