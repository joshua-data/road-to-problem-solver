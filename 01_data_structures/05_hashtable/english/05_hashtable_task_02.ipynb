{
 "cells": [
  {
   "cell_type": "markdown",
   "metadata": {},
   "source": [
    "# Valid Anagram\n",
    "* [Link](https://leetcode.com/problems/valid-anagram/description/)"
   ]
  },
  {
   "cell_type": "markdown",
   "metadata": {},
   "source": [
    "# My Approach"
   ]
  },
  {
   "cell_type": "code",
   "execution_count": 13,
   "metadata": {},
   "outputs": [],
   "source": [
    "def solution(s, t):\n",
    "\n",
    "    # Convert the string s into a dictionary (Letter: number of occurrences)\n",
    "    s_dict = {}\n",
    "    for letter in s:\n",
    "        if letter not in s_dict.keys():\n",
    "            s_dict[letter] = 1\n",
    "        else:\n",
    "            s_dict[letter] += 1\n",
    "\n",
    "    # Convert the string t into a dictionary (Letter: number of occurrences)\n",
    "    t_dict = {}\n",
    "    for letter in t:\n",
    "        if letter not in t_dict.keys():\n",
    "            t_dict[letter] = 1\n",
    "        else:\n",
    "            t_dict[letter] += 1\n",
    "    \n",
    "    # Return True if they are the same, otherwise False!\n",
    "    return s_dict == t_dict"
   ]
  }
 ],
 "metadata": {
  "kernelspec": {
   "display_name": "3.8.10",
   "language": "python",
   "name": "python3"
  },
  "language_info": {
   "codemirror_mode": {
    "name": "ipython",
    "version": 3
   },
   "file_extension": ".py",
   "mimetype": "text/x-python",
   "name": "python",
   "nbconvert_exporter": "python",
   "pygments_lexer": "ipython3",
   "version": "3.8.10"
  }
 },
 "nbformat": 4,
 "nbformat_minor": 2
}
