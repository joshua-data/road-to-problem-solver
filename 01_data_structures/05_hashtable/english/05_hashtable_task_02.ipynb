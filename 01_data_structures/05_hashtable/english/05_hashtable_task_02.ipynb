{
 "cells": [
  {
   "cell_type": "markdown",
   "metadata": {},
   "source": [
    "# Valid Anagram\n",
    "* [Link](https://leetcode.com/problems/valid-anagram/description/)"
   ]
  },
  {
   "cell_type": "markdown",
   "metadata": {},
   "source": [
    "# My Approach"
   ]
  },
  {
   "cell_type": "markdown",
   "metadata": {},
   "source": [
    "### Old Approach\n",
    "* I wasn't fully satisfied with the fact that I used multiple dictionaries and didn't apply any early stops, which can lead to code inefficiencies.\n",
    "* Even though my code was accepted as an answer, but it wasn't a perfect one."
   ]
  },
  {
   "cell_type": "code",
   "execution_count": 13,
   "metadata": {},
   "outputs": [],
   "source": [
    "def solution(s, t):\n",
    "\n",
    "    # Convert the string s into a dictionary (Letter: number of occurrences)\n",
    "    s_dict = {}\n",
    "    for letter in s:\n",
    "        if letter not in s_dict.keys():\n",
    "            s_dict[letter] = 1\n",
    "        else:\n",
    "            s_dict[letter] += 1\n",
    "\n",
    "    # Convert the string t into a dictionary (Letter: number of occurrences)\n",
    "    t_dict = {}\n",
    "    for letter in t:\n",
    "        if letter not in t_dict.keys():\n",
    "            t_dict[letter] = 1\n",
    "        else:\n",
    "            t_dict[letter] += 1\n",
    "    \n",
    "    # Return True if they are the same, otherwise False!\n",
    "    return s_dict == t_dict"
   ]
  },
  {
   "cell_type": "markdown",
   "metadata": {},
   "source": [
    "### New Approach\n",
    "* Improved the Old Approach with refererence to the feedback from my team members."
   ]
  },
  {
   "cell_type": "code",
   "execution_count": null,
   "metadata": {},
   "outputs": [],
   "source": [
    "def solution(s, t):\n",
    "\n",
    "    letters_dict = {}\n",
    "\n",
    "    # Convert the string s into a dictionay (letter: number of occurrences)\n",
    "    for letter in s:\n",
    "        letters_dict[letter] = letters_dict[letter] + 1 if letter in letters_dict.keys() else 1\n",
    "\n",
    "    # Compare string t to the existing dictionary\n",
    "    for letter in t:\n",
    "        # if the letter does NOT exist in letters_dict: NOT A ANAGRAM!\n",
    "        if letter not in letters_dict.keys():\n",
    "            return False\n",
    "        letters_dict[letter] -= 1\n",
    "        # if the number of occurrences are negative: NOT A ANAGRAM!\n",
    "        if letters_dict[letter] < 0:\n",
    "            return False\n",
    "    \n",
    "    # Return True if all the numbers are 0, otherwise False!\n",
    "    return not any(value > 0 for value in letters_dict.values())"
   ]
  }
 ],
 "metadata": {
  "kernelspec": {
   "display_name": "3.8.10",
   "language": "python",
   "name": "python3"
  },
  "language_info": {
   "codemirror_mode": {
    "name": "ipython",
    "version": 3
   },
   "file_extension": ".py",
   "mimetype": "text/x-python",
   "name": "python",
   "nbconvert_exporter": "python",
   "pygments_lexer": "ipython3",
   "version": "3.8.10"
  }
 },
 "nbformat": 4,
 "nbformat_minor": 2
}
