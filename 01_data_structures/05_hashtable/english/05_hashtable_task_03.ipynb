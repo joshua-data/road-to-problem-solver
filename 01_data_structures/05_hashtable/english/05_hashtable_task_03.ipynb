{
 "cells": [
  {
   "cell_type": "markdown",
   "metadata": {},
   "source": [
    "# Climbing Stairs\n",
    "* [Link](https://leetcode.com/problems/climbing-stairs/description/)"
   ]
  },
  {
   "cell_type": "markdown",
   "metadata": {},
   "source": [
    "# My Approach"
   ]
  },
  {
   "cell_type": "markdown",
   "metadata": {},
   "source": [
    "* Actually, this falls under the Fibonacci sequence, which follows the pattern 1, 2, 3, 5, 8, 13, ...\n",
    "* So instead of taking a complex approach, I directly tackled it using the Fibonacci sequence."
   ]
  },
  {
   "cell_type": "code",
   "execution_count": 13,
   "metadata": {},
   "outputs": [],
   "source": [
    "def solution(n):\n",
    "\n",
    "    # If there's 1 step, the answer is 1. If there are 2 steps, the answer is 2!\n",
    "    if n == 1:\n",
    "        return 1\n",
    "    elif n == 2:\n",
    "        return 2\n",
    "\n",
    "    # Initialize the first and second values\n",
    "    first, second = 1, 2\n",
    "\n",
    "    # Loop from 3 up to n\n",
    "    for i in range(3, n + 1):\n",
    "        # Calculate the sum of the previous 1st and 2nd values\n",
    "        third = first + second\n",
    "        # As i increases, update the 1st and 2nd values\n",
    "        first = second\n",
    "        second = third\n",
    "\n",
    "    # After looping, return the second value!\n",
    "    return second\n"
   ]
  }
 ],
 "metadata": {
  "kernelspec": {
   "display_name": "3.8.10",
   "language": "python",
   "name": "python3"
  },
  "language_info": {
   "codemirror_mode": {
    "name": "ipython",
    "version": 3
   },
   "file_extension": ".py",
   "mimetype": "text/x-python",
   "name": "python",
   "nbconvert_exporter": "python",
   "pygments_lexer": "ipython3",
   "version": "3.8.10"
  }
 },
 "nbformat": 4,
 "nbformat_minor": 2
}
