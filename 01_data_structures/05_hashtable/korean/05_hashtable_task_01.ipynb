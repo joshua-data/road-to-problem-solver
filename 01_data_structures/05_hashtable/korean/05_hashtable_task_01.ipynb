{
 "cells": [
  {
   "cell_type": "markdown",
   "metadata": {},
   "source": [
    "# Two Sum\n",
    "* [Link](https://leetcode.com/problems/two-sum/description/)"
   ]
  },
  {
   "cell_type": "markdown",
   "metadata": {},
   "source": [
    "# My Approach"
   ]
  },
  {
   "cell_type": "markdown",
   "metadata": {},
   "source": [
    "### Old Approach\n",
    "* Nested Loop을 사용하므로 시간 복잡도가 O(n**2)입니다. 그래서 매우 비효율적이었어요.\n",
    "* 정답은 맞췄지만 속도가 매우 느렸어요."
   ]
  },
  {
   "cell_type": "code",
   "execution_count": 4,
   "metadata": {},
   "outputs": [],
   "source": [
    "def solution(nums, target):\n",
    "\n",
    "    # nums 리스트의 항목을 하나씩 Looping하면서\n",
    "    for i in range(len(nums)):\n",
    "        # Bubble Sorting으로 Nested Looping을 하면서\n",
    "        for j in range(i + 1, len(nums)):\n",
    "            # Sum이 Target과 일치하면 정답을 내뱉어!\n",
    "            if nums[i] + nums[j] == target:\n",
    "                return [i, j]"
   ]
  },
  {
   "cell_type": "markdown",
   "metadata": {},
   "source": [
    "### New Approach\n",
    "* Dictionary(혹은 Hash Table)가 Key Search에 매우 효율적인 저장 구조를 가지고 있다는 사실을 감안하여, 기존의 List를 Dictionary로 변환하는 과정으로 접근해봤어요.\n",
    "* 정답도 맞췄고 속도도 무진장 빨랐어요."
   ]
  },
  {
   "cell_type": "code",
   "execution_count": 5,
   "metadata": {},
   "outputs": [],
   "source": [
    "def solution(nums, target):\n",
    "\n",
    "    # nums 리스트를 다음과 같은 구조로 저장하는 Dictionary\n",
    "    # Key: 항목 값 / Value: 항목의 Index\n",
    "    nums_dict = {}\n",
    "\n",
    "    # nums 리스트의 항목을 하니씩 Looping 시작!\n",
    "    for i, curr_num in enumerate(nums):\n",
    "        \n",
    "        # Target에 모자란 값\n",
    "        remaining_num = target - curr_num\n",
    "\n",
    "        # 모자란 값이 Dictionary에 존재하니?\n",
    "        if remaining_num in nums_dict:\n",
    "            # 오! 그럼 Sum이 일치하니, 그 항목의 Index를 알려줘!\n",
    "            j = nums_dict[remaining_num]\n",
    "            # 이제 정답을 내뱉어!\n",
    "            return [i, j]\n",
    "\n",
    "        # 없구나... 그럼 일단 nums_dict에 하나 추가해두자.\n",
    "        nums_dict[curr_num] = i"
   ]
  }
 ],
 "metadata": {
  "kernelspec": {
   "display_name": "3.8.10",
   "language": "python",
   "name": "python3"
  },
  "language_info": {
   "codemirror_mode": {
    "name": "ipython",
    "version": 3
   },
   "file_extension": ".py",
   "mimetype": "text/x-python",
   "name": "python",
   "nbconvert_exporter": "python",
   "pygments_lexer": "ipython3",
   "version": "3.8.10"
  }
 },
 "nbformat": 4,
 "nbformat_minor": 2
}
