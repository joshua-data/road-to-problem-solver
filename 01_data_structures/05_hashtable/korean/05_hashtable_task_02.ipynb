{
 "cells": [
  {
   "cell_type": "markdown",
   "metadata": {},
   "source": [
    "# Valid Anagram\n",
    "* [Link](https://leetcode.com/problems/valid-anagram/description/)"
   ]
  },
  {
   "cell_type": "markdown",
   "metadata": {},
   "source": [
    "# My Approach"
   ]
  },
  {
   "cell_type": "markdown",
   "metadata": {},
   "source": [
    "### Old Approach\n",
    "* 2개의 Dictionaries를 사용하는 게 비효율적인 것 같고, Early Stop 방식도 없어서 마음에 들지 않았어요.\n",
    "* 정답은 맞췄지만 최적화는 되지 못한 상태였죠."
   ]
  },
  {
   "cell_type": "code",
   "execution_count": 13,
   "metadata": {},
   "outputs": [],
   "source": [
    "def solution(s, t):\n",
    "\n",
    "    # s String -> Dictionay로 변환해보기 (Letter: 나타난 횟수)\n",
    "    s_dict = {}\n",
    "    for letter in s:\n",
    "        if letter not in s_dict.keys():\n",
    "            s_dict[letter] = 1\n",
    "        else:\n",
    "            s_dict[letter] += 1\n",
    "\n",
    "    # t String -> Dictionay로 변환해보기 (Letter: 나타난 횟수)\n",
    "    t_dict = {}\n",
    "    for letter in t:\n",
    "        if letter not in t_dict.keys():\n",
    "            t_dict[letter] = 1\n",
    "        else:\n",
    "            t_dict[letter] += 1\n",
    "    \n",
    "    # 같으면 True, 다르면 False!\n",
    "    return s_dict == t_dict"
   ]
  },
  {
   "cell_type": "markdown",
   "metadata": {},
   "source": [
    "### New Approach\n",
    "* 동료 분들의 코드를 본 후 제 코드를 직접 수정해봤어요."
   ]
  },
  {
   "cell_type": "code",
   "execution_count": null,
   "metadata": {},
   "outputs": [],
   "source": [
    "def solution(s, t):\n",
    "\n",
    "    letters_dict = {}\n",
    "\n",
    "    # s String -> Dictionary로 변환해보기 (letter: 나타난 횟수)\n",
    "    for letter in s:\n",
    "        letters_dict[letter] = letters_dict[letter] + 1 if letter in letters_dict.keys() else 1\n",
    "\n",
    "    # t String -> Dictionary와 비교 시작해보기\n",
    "    for letter in t:\n",
    "        # 만약 letters_dict에 없다면: 너넨 달라!\n",
    "        if letter not in letters_dict.keys():\n",
    "            return False\n",
    "        letters_dict[letter] -= 1\n",
    "        # 만약 letters_dict의 횟수가 0보다 작아진다면: 너넨 달라!\n",
    "        if letters_dict[letter] < 0:\n",
    "            return False\n",
    "    \n",
    "    # 횟수가 모두 0이면 True, 0보다 큰 게 존재하면 False를 내뱉어!\n",
    "    return not any(value > 0 for value in letters_dict.values())"
   ]
  }
 ],
 "metadata": {
  "kernelspec": {
   "display_name": "3.8.10",
   "language": "python",
   "name": "python3"
  },
  "language_info": {
   "codemirror_mode": {
    "name": "ipython",
    "version": 3
   },
   "file_extension": ".py",
   "mimetype": "text/x-python",
   "name": "python",
   "nbconvert_exporter": "python",
   "pygments_lexer": "ipython3",
   "version": "3.8.10"
  }
 },
 "nbformat": 4,
 "nbformat_minor": 2
}
