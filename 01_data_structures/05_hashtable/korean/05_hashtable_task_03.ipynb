{
 "cells": [
  {
   "cell_type": "markdown",
   "metadata": {},
   "source": [
    "# Climbing Stairs\n",
    "* [Link](https://leetcode.com/problems/climbing-stairs/description/)"
   ]
  },
  {
   "cell_type": "markdown",
   "metadata": {},
   "source": [
    "# My Approach"
   ]
  },
  {
   "cell_type": "markdown",
   "metadata": {},
   "source": [
    "* 사실 이건 Fibonacci Sequence (피보나치 수열) 영역이라, 1, 2, 3, 5, 8, 13, ... 의 규칙을 가지고 있어요.\n",
    "* 그래서 복잡하게 접근하지 않고, 그냥 Fibonacci Sequence 로 바로 접근했어요."
   ]
  },
  {
   "cell_type": "code",
   "execution_count": 13,
   "metadata": {},
   "outputs": [],
   "source": [
    "def solution(n):\n",
    "\n",
    "    # 계단 수가 1개면 정답은 1, 2개면 정답은 2!\n",
    "    if n == 1:\n",
    "        return 1\n",
    "    elif n == 2:\n",
    "        return 2\n",
    "\n",
    "    # first, second 값을 미리 알려주기\n",
    "    first, second = 1, 2\n",
    "\n",
    "    # 3부터 n까지 Looping하기\n",
    "    for i in range(3, n + 1):\n",
    "        # 이전 1번째 + 2번째 합을 구해주고\n",
    "        third = first + second\n",
    "        # i 가 증가하므로 이전 1번째와 2번째 값을 업데이트해주기\n",
    "        first = second\n",
    "        second = third\n",
    "\n",
    "    # Looping 끝난 후에 second 값을 뱉어라!\n",
    "    return second"
   ]
  }
 ],
 "metadata": {
  "kernelspec": {
   "display_name": "3.8.10",
   "language": "python",
   "name": "python3"
  },
  "language_info": {
   "codemirror_mode": {
    "name": "ipython",
    "version": 3
   },
   "file_extension": ".py",
   "mimetype": "text/x-python",
   "name": "python",
   "nbconvert_exporter": "python",
   "pygments_lexer": "ipython3",
   "version": "3.8.10"
  }
 },
 "nbformat": 4,
 "nbformat_minor": 2
}
