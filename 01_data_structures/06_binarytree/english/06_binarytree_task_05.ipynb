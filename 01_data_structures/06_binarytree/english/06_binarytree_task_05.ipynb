{
 "cells": [
  {
   "cell_type": "markdown",
   "metadata": {},
   "source": [
    "# Validate Binary Search Tree\n",
    "* [Link](https://leetcode.com/problems/validate-binary-search-tree/description/)"
   ]
  },
  {
   "cell_type": "markdown",
   "metadata": {},
   "source": [
    "# Define Class"
   ]
  },
  {
   "cell_type": "code",
   "execution_count": 1,
   "metadata": {},
   "outputs": [],
   "source": [
    "class TreeNode:\n",
    "    def __init__(self, val=0, left=None, right=None):\n",
    "        self.val = val\n",
    "        self.left = left\n",
    "        self.right = right"
   ]
  },
  {
   "cell_type": "markdown",
   "metadata": {},
   "source": [
    "# My Approach"
   ]
  },
  {
   "cell_type": "code",
   "execution_count": 2,
   "metadata": {},
   "outputs": [],
   "source": [
    "class Solution:\n",
    "    def isValidBST(self, root: TreeNode) -> bool:\n",
    "        \n",
    "        def check_bst(lower, parent, upper):\n",
    "\n",
    "            # If the parent node itself doesn't exist, stop and recognize it as a valid BST.\n",
    "            if parent is None:\n",
    "                return True\n",
    "\n",
    "            # If it satisfies the BST conditions, continue.\n",
    "            if lower < parent.val < upper:\n",
    "                pass\n",
    "            # If it doesn't satisfy the BST conditions, stop and return False.\n",
    "            else:\n",
    "                return False\n",
    "\n",
    "            # Start recursion with the child nodes!\n",
    "            # === Left child node: it's okay to leave 'lower' as Negative Infinity.\n",
    "            # === Right child node: it's okay to leave 'upper' as Positive Infinity.\n",
    "            return check_bst(lower, parent.left, parent.val) and check_bst(parent.val, parent.right, upper)\n",
    "\n",
    "        # Start from the root (Negative Infinity ~ Positive Infinity)\n",
    "        return check_bst(float('-inf'), root, float('inf'))\n"
   ]
  }
 ],
 "metadata": {
  "kernelspec": {
   "display_name": "3.8.10",
   "language": "python",
   "name": "python3"
  },
  "language_info": {
   "codemirror_mode": {
    "name": "ipython",
    "version": 3
   },
   "file_extension": ".py",
   "mimetype": "text/x-python",
   "name": "python",
   "nbconvert_exporter": "python",
   "pygments_lexer": "ipython3",
   "version": "3.8.10"
  }
 },
 "nbformat": 4,
 "nbformat_minor": 2
}
