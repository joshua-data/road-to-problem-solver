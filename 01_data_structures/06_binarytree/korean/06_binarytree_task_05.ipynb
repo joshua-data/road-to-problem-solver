{
 "cells": [
  {
   "cell_type": "markdown",
   "metadata": {},
   "source": [
    "# Validate Binary Search Tree\n",
    "* [Link](https://leetcode.com/problems/validate-binary-search-tree/description/)"
   ]
  },
  {
   "cell_type": "markdown",
   "metadata": {},
   "source": [
    "# Define Class"
   ]
  },
  {
   "cell_type": "code",
   "execution_count": 1,
   "metadata": {},
   "outputs": [],
   "source": [
    "class TreeNode:\n",
    "    def __init__(self, val=0, left=None, right=None):\n",
    "        self.val = val\n",
    "        self.left = left\n",
    "        self.right = right"
   ]
  },
  {
   "cell_type": "markdown",
   "metadata": {},
   "source": [
    "# My Approach"
   ]
  },
  {
   "cell_type": "code",
   "execution_count": 2,
   "metadata": {},
   "outputs": [],
   "source": [
    "class Solution:\n",
    "    def isValidBST(self, root: TreeNode) -> bool:\n",
    "        \n",
    "        def check_bst(lower, parent, upper):\n",
    "\n",
    "            # 부모노드 자체가 없으면 멈추고 BST로 아예 인정해.\n",
    "            if parent is None:\n",
    "                return True\n",
    "\n",
    "            # BST를 만족하므로 넘어가봐.\n",
    "            if lower < parent.val < upper:\n",
    "                pass\n",
    "            # BST를 불만족하므로 멈추고 그냥 넌 안돼.\n",
    "            else:\n",
    "                return False\n",
    "\n",
    "            # 자식노드들에게 Recursive 시작!\n",
    "            # === Left 자식 노드: 어차피 lower는 Negative Inf로 냅둬도 상관 없어.\n",
    "            # === Right 자식 노드: 어차피 upper는 Positive Inf로 냅둬도 상관 없어.\n",
    "            return check_bst(lower, parent.left, parent.val) and check_bst(parent.val, parent.right, upper)\n",
    "\n",
    "        # Root부터 시작 (Negative Inf ~ Positive Inf)\n",
    "        return check_bst(float('-inf'), root, float('inf'))"
   ]
  }
 ],
 "metadata": {
  "kernelspec": {
   "display_name": "3.8.10",
   "language": "python",
   "name": "python3"
  },
  "language_info": {
   "codemirror_mode": {
    "name": "ipython",
    "version": 3
   },
   "file_extension": ".py",
   "mimetype": "text/x-python",
   "name": "python",
   "nbconvert_exporter": "python",
   "pygments_lexer": "ipython3",
   "version": "3.8.10"
  }
 },
 "nbformat": 4,
 "nbformat_minor": 2
}
