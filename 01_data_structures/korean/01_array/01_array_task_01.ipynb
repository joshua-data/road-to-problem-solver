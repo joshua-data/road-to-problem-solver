{
 "cells": [
  {
   "cell_type": "markdown",
   "metadata": {},
   "source": [
    "# No Duplicate Numbers!\n",
    "* [Link](https://school.programmers.co.kr/learn/courses/30/lessons/12906?language=python3)"
   ]
  },
  {
   "cell_type": "markdown",
   "metadata": {},
   "source": [
    "# Task Explained"
   ]
  },
  {
   "cell_type": "markdown",
   "metadata": {},
   "source": [
    "### 문제 설명\n",
    "배열 arr가 주어집니다. 배열 arr의 각 원소는 숫자 0부터 9까지로 이루어져 있습니다. 이때, 배열 arr에서 연속적으로 나타나는 숫자는 하나만 남기고 전부 제거하려고 합니다. 단, 제거된 후 남은 수들을 반환할 때는 배열 arr의 원소들의 순서를 유지해야 합니다. 예를 들면,\n",
    "\n",
    "* arr = [1, 1, 3, 3, 0, 1, 1] 이면 [1, 3, 0, 1] 을 return 합니다.\n",
    "* arr = [4, 4, 4, 3, 3] 이면 [4, 3] 을 return 합니다.\n",
    "\n",
    "배열 arr에서 연속적으로 나타나는 숫자는 제거하고 남은 수들을 return 하는 solution 함수를 완성해 주세요.\n",
    "\n",
    "### 제한사항\n",
    "* 배열 arr의 크기 : 1,000,000 이하의 자연수\n",
    "* 배열 arr의 원소의 크기 : 0보다 크거나 같고 9보다 작거나 같은 정수"
   ]
  },
  {
   "cell_type": "markdown",
   "metadata": {},
   "source": [
    "### 입출력 예\n",
    "\n",
    "\n",
    "| arr | answer |\n",
    "| - | - |\n",
    "| `[1,1,3,3,0,1,1]` | `[1,3,0,1]` |\n",
    "| `[4,4,4,3,3]` | `[4,3]` |\n",
    "\n",
    "### 입출력 예 설명\n",
    "* 입출력 예 #1,2\n",
    "* 문제의 예시와 같습니다."
   ]
  },
  {
   "cell_type": "markdown",
   "metadata": {},
   "source": [
    "# My Approach"
   ]
  },
  {
   "cell_type": "markdown",
   "metadata": {},
   "source": [
    "1. 저는 **연속형 동일**의 의미를 **직전 요소와 값이 동일한 경우**로 해석했어요.\n",
    "\n",
    "2.  따라서, 다음의 조건에 따라 **유지/삭제 여부**를 결정하려고 했어요.\n",
    "\n",
    "    ```plain\n",
    "    if 해당요소 == 직전요소:\n",
    "        해당요소.삭제하기\n",
    "    else:\n",
    "        해당요소.유지하기\n",
    "    ```\n",
    "\n",
    "3. 그런데, 해당요소가 **리스트의 0번째**라면 **비교할 직전 요소 자체**가 없으므로, 다음과 같이 조건을 추가하려고 했어요.\n",
    "\n",
    "    ```plain\n",
    "    if 해당요소 == 리스트[0]:\n",
    "        해당요소.유지하기\n",
    "    elif 해당요소 == 직전요소:\n",
    "        해당요소.삭제하기\n",
    "    else:\n",
    "        해당요소.유지하기    \n",
    "    ```"
   ]
  },
  {
   "cell_type": "code",
   "execution_count": 19,
   "metadata": {},
   "outputs": [
    {
     "data": {
      "text/plain": [
       "[4, 3]"
      ]
     },
     "execution_count": 19,
     "metadata": {},
     "output_type": "execute_result"
    }
   ],
   "source": [
    "arr = [4, 4, 4, 3, 3]\n",
    "\n",
    "def RemoveConsecutiveDuplicates(arr):\n",
    "    answers = []\n",
    "    for i, item in enumerate(arr):\n",
    "        if i == 0:\n",
    "            answers.append(item)\n",
    "        else:\n",
    "            if item_prev != item:\n",
    "                answers.append(item)\n",
    "        item_prev = item\n",
    "    return answers\n",
    "\n",
    "RemoveConsecutiveDuplicates(arr)"
   ]
  }
 ],
 "metadata": {
  "kernelspec": {
   "display_name": "Python 3",
   "language": "python",
   "name": "python3"
  },
  "language_info": {
   "codemirror_mode": {
    "name": "ipython",
    "version": 3
   },
   "file_extension": ".py",
   "mimetype": "text/x-python",
   "name": "python",
   "nbconvert_exporter": "python",
   "pygments_lexer": "ipython3",
   "version": "3.8.10"
  }
 },
 "nbformat": 4,
 "nbformat_minor": 2
}
