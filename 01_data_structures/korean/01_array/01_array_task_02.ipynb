{
 "cells": [
  {
   "cell_type": "markdown",
   "metadata": {},
   "source": [
    "# Move Zeroes\n",
    "* [Link](https://leetcode.com/problems/move-zeroes/)"
   ]
  },
  {
   "cell_type": "markdown",
   "metadata": {},
   "source": [
    "# Task Explained"
   ]
  },
  {
   "cell_type": "markdown",
   "metadata": {},
   "source": [
    "### Task\n",
    "\n",
    "* Given an integer array nums, move all 0's to the end of it while maintaining the relative order of the non-zero elements.\n",
    "* Note that you must do this in-place without making a copy of the array.\n",
    "\n",
    "### Example 1:\n",
    "\n",
    "> * Input: nums = [0,1,0,3,12]\n",
    "> * Output: [1,3,12,0,0]\n",
    "\n",
    "### Example 2:\n",
    "\n",
    "> * Input: nums = [0]\n",
    "> * Output: [0]\n",
    " \n",
    "### Constraints:\n",
    "\n",
    "> * 1 <= nums.length <= 104\n",
    "> * -231 <= nums[i] <= 231 - 1\n",
    " \n",
    "### Follow up\n",
    "* Could you minimize the total number of operations done?"
   ]
  },
  {
   "cell_type": "markdown",
   "metadata": {},
   "source": [
    "# My Approach"
   ]
  },
  {
   "cell_type": "markdown",
   "metadata": {},
   "source": [
    "1. 저는 다음과 같은 접근을 떠올렸어요.\n",
    "    * 0은 삭제하면서 개수를 센다.\n",
    "    * 0이 아닌 것은 그대로 유지한다.\n",
    "\n",
    "2. 따라서 다음과 같은 방법을 생각했어요.\n",
    "\n",
    "    ```plain\n",
    "    for 해당요소 in 리스트:\n",
    "        if 해당요소 == 0:\n",
    "            0개수 += 1\n",
    "            해당요소.삭제하기\n",
    "        else:\n",
    "            해당요소.유지하기\n",
    "    해당요소.extend([0] * 0개수)\n",
    "    ```\n",
    "\n",
    "3. 사실 별도의 Temp 리스트를 두는 방법도 생각해봤지만, 메모리 최적화를 위해 위와 같이 효율적인 방법을 생각한 것이에요."
   ]
  },
  {
   "cell_type": "code",
   "execution_count": 20,
   "metadata": {},
   "outputs": [
    {
     "data": {
      "text/plain": [
       "[1, 3, 12, 0, 0]"
      ]
     },
     "execution_count": 20,
     "metadata": {},
     "output_type": "execute_result"
    }
   ],
   "source": [
    "nums = [0, 1, 0, 3, 12]\n",
    "\n",
    "def MoveZeroes(nums):\n",
    "    zero_cnt = 0\n",
    "    for i in reversed(range(0, len(nums), 1)):\n",
    "        if nums[i] == 0:\n",
    "            zero_cnt += 1\n",
    "            nums.pop(i)\n",
    "    nums.extend([0] * zero_cnt)\n",
    "    return nums\n",
    "\n",
    "MoveZeroes(nums)"
   ]
  },
  {
   "cell_type": "code",
   "execution_count": null,
   "metadata": {},
   "outputs": [],
   "source": []
  }
 ],
 "metadata": {
  "kernelspec": {
   "display_name": "Python 3",
   "language": "python",
   "name": "python3"
  },
  "language_info": {
   "codemirror_mode": {
    "name": "ipython",
    "version": 3
   },
   "file_extension": ".py",
   "mimetype": "text/x-python",
   "name": "python",
   "nbconvert_exporter": "python",
   "pygments_lexer": "ipython3",
   "version": "3.8.10"
  }
 },
 "nbformat": 4,
 "nbformat_minor": 2
}
