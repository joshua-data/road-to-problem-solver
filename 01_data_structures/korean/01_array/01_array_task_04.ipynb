{
 "cells": [
  {
   "cell_type": "markdown",
   "metadata": {},
   "source": [
    "# Container with Most Water\n",
    "* [Link](https://leetcode.com/problems/container-with-most-water/description/)"
   ]
  },
  {
   "cell_type": "markdown",
   "metadata": {},
   "source": [
    "# Task Explained"
   ]
  },
  {
   "cell_type": "markdown",
   "metadata": {},
   "source": [
    "### Task\n",
    "\n",
    "* You are given an integer array height of length n. There are n vertical lines drawn such that the two endpoints of the ith line are (i, 0) and (i, height[i]).\n",
    "* Find two lines that together with the x-axis form a container, such that the container contains the most water.\n",
    "* Return the maximum amount of water a container can store.\n",
    "* Notice that you may not slant the container.\n",
    "\n",
    "### Example 1:\n",
    "![](https://s3-lc-upload.s3.amazonaws.com/uploads/2018/07/17/question_11.jpg)\n",
    "\n",
    "> * Input: height = [1,8,6,2,5,4,8,3,7]\n",
    "> * Output: 49\n",
    "> * Explanation: The above vertical lines are represented by array [1,8,6,2,5,4,8,3,7]. In this case, the max area of water (blue section) the container can contain is 49.\n",
    "\n",
    "### Example 2:\n",
    "\n",
    "> * Input: height = [1,1]\n",
    "> * Output: 1\n",
    " \n",
    "### Constraints:\n",
    "\n",
    "> * n == height.length\n",
    "> * 2 <= n <= 105\n",
    "> * 0 <= height[i] <= 104"
   ]
  },
  {
   "cell_type": "markdown",
   "metadata": {},
   "source": [
    "# My Approach"
   ]
  },
  {
   "cell_type": "markdown",
   "metadata": {},
   "source": [
    "### 핵심 알고리즘 설명\n",
    "* **2개의 포인터**: 이 문제는 효율적으로 풀기 위해 투 포인터 기법을 사용합니다. 처음에는 배열의 양 끝에서 시작하여, 각 단계마다 두 포인터 중 높이가 더 작은 쪽을 움직이면서 최대 면적을 계산합니다.\n",
    "* **면적 계산**: 두 수직선 사이의 면적은 두 수직선 간의 거리와 더 낮은 수직선의 높이를 곱한 값입니다.\n",
    "* **최적화**: 높이가 낮은 수직선은 더 이상 큰 면적을 만들지 않으므로, 높이가 낮은 수직선에 위치한 포인터를 이동시켜야 최대 면적을 찾을 수 있습니다."
   ]
  },
  {
   "cell_type": "code",
   "execution_count": 17,
   "metadata": {},
   "outputs": [
    {
     "data": {
      "text/plain": [
       "49"
      ]
     },
     "execution_count": 17,
     "metadata": {},
     "output_type": "execute_result"
    }
   ],
   "source": [
    "heights = [1, 8, 6, 2, 5, 4, 8, 3, 7]\n",
    "\n",
    "def CalculateMaxArea(heights):\n",
    "\n",
    "    max_area = 0\n",
    "    start_x, end_x = 0, len(heights) - 1\n",
    "\n",
    "    while start_x < end_x:\n",
    "\n",
    "        start_y, end_y = heights[start_x], heights[end_x]\n",
    "\n",
    "        area = (end_x - start_x) * min(start_y, end_y)\n",
    "        max_area = max(area, max_area)\n",
    "\n",
    "        if start_y < end_y:\n",
    "            start_x += 1\n",
    "        else:\n",
    "            end_x -= 1\n",
    "\n",
    "    return max_area\n",
    "\n",
    "CalculateMaxArea(heights)"
   ]
  }
 ],
 "metadata": {
  "kernelspec": {
   "display_name": "Python 3",
   "language": "python",
   "name": "python3"
  },
  "language_info": {
   "codemirror_mode": {
    "name": "ipython",
    "version": 3
   },
   "file_extension": ".py",
   "mimetype": "text/x-python",
   "name": "python",
   "nbconvert_exporter": "python",
   "pygments_lexer": "ipython3",
   "version": "3.8.10"
  }
 },
 "nbformat": 4,
 "nbformat_minor": 2
}
